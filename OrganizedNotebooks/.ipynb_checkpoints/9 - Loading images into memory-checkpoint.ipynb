{
 "cells": [
  {
   "cell_type": "markdown",
   "id": "cdba8d31",
   "metadata": {},
   "source": [
    "# -This notebook shows the experiment of loading the images into the memory-"
   ]
  },
  {
   "cell_type": "code",
   "execution_count": null,
   "id": "ad176564",
   "metadata": {},
   "outputs": [],
   "source": [
    "######################################################################\n",
    "############################# Imports ################################\n",
    "######################################################################\n",
    "%matplotlib inline\n",
    "import sys\n",
    "import os\n",
    "import pandas as pd\n",
    "import numpy as np\n",
    "import matplotlib.pyplot as plt\n",
    "from datetime import datetime \n",
    "\n",
    "import keras.backend as K\n",
    "import tensorflow as tf\n",
    "from tensorflow import keras\n",
    "from tensorflow.keras import layers\n",
    "from keras.models import Model\n",
    "from keras.utils import Sequence\n",
    "from keras.utils import load_img\n",
    "from keras.optimizers import RMSprop\n",
    "from keras.optimizers import Adam\n"
   ]
  },
  {
   "cell_type": "code",
   "execution_count": null,
   "id": "9886ffe6",
   "metadata": {},
   "outputs": [],
   "source": [
    "######################################################################    \n",
    "####################### Load refference data #########################    \n",
    "######################################################################  \n",
    "df = pd.read_csv('black_background_500x500.csv')\n",
    "train_df = df[df['ImagePath'].str.contains(\"train\")]\n",
    "test_df = df[df['ImagePath'].str.contains(\"test\")]\n",
    "valid_df = df[df['ImagePath'].str.contains(\"valid\")]\n",
    "\n",
    "input_size = 500"
   ]
  },
  {
   "cell_type": "code",
   "execution_count": null,
   "id": "c46f0bef",
   "metadata": {},
   "outputs": [],
   "source": [
    "######################################################################\n",
    "#################### Loading images into arrays #######################\n",
    "######################################################################\n",
    "def load_df_to_list(the_df, i_s):\n",
    "    the_df = the_df.reset_index()\n",
    "    x_list = np.zeros((len(the_df), i_s, i_s, 1))\n",
    "    y_list = np.zeros((len(the_df), 3))\n",
    "    for i, row in the_df.iterrows():\n",
    "        data = load_img(path = row['ImagePath'], color_mode = \"grayscale\")\n",
    "        data = tf.keras.utils.img_to_array(data, data_format=\"channels_last\", dtype=\"float32\")\n",
    "        data /= 255\n",
    "        x_list[i] = np.asarray(data)\n",
    "        y_list[i] = row[['phi1','PHI', 'phi2']].values\n",
    "    \n",
    "    return x_list, y_list\n",
    "\n",
    "train_x_list,train_y_list = load_df_to_list(train_df, input_size)\n",
    "test_x_list,test_y_list   = load_df_to_list(test_df, input_size)\n",
    "valid_x_list,valid_y_list = load_df_to_list(valid_df, input_size)"
   ]
  },
  {
   "cell_type": "code",
   "execution_count": null,
   "id": "bfb817a2",
   "metadata": {},
   "outputs": [],
   "source": [
    "######################################################################    \n",
    "########################## Loss functions ############################    \n",
    "###################################################################### \n",
    "def abs_loss_function(y_true, y_pred):   \n",
    "    abs_diff = K.abs(y_true - y_pred)\n",
    "    ones = tf.ones_like(y_true)\n",
    "    abs_diff_reversed = K.abs(ones - abs_diff )   \n",
    "    minimum_from_two = tf.math.minimum(abs_diff, abs_diff_reversed) \n",
    "    return tf.math.reduce_mean(minimum_from_two, axis=-1)"
   ]
  },
  {
   "cell_type": "code",
   "execution_count": null,
   "id": "0550d470",
   "metadata": {},
   "outputs": [],
   "source": [
    "######################################################################    \n",
    "######################## Loading the model ###########################    \n",
    "###################################################################### \n",
    "inputs = keras.Input(shape=(input_size, input_size, 1))\n",
    "x = layers.Conv2D(filters=32, kernel_size=3, activation=\"relu\")(inputs)\n",
    "x = layers.Conv2D(filters=32, kernel_size=3, activation=\"relu\")(x)\n",
    "x = layers.MaxPooling2D(pool_size=4)(x)\n",
    "x = layers.Conv2D(filters=32, kernel_size=3, activation=\"relu\")(x)\n",
    "x = layers.Conv2D(filters=32, kernel_size=3, activation=\"relu\")(x)\n",
    "x = layers.MaxPooling2D(pool_size=4)(x)\n",
    "x = layers.Conv2D(filters=32, kernel_size=3, activation=\"relu\")(x)\n",
    "x = layers.Conv2D(filters=32, kernel_size=3, activation=\"relu\")(x)\n",
    "x = layers.MaxPooling2D(pool_size=4)(x)\n",
    "x = layers.Flatten()(x)\n",
    "x = layers.Dense(128, activation=\"relu\")(x)\n",
    "x = layers.Dense(16, activation=\"relu\")(x)\n",
    "outputs = layers.Dense(3)(x)\n",
    "\n",
    "model = keras.Model(inputs=inputs, outputs=outputs)\n"
   ]
  },
  {
   "cell_type": "code",
   "execution_count": null,
   "id": "0665bd7e",
   "metadata": {},
   "outputs": [],
   "source": [
    "######################################################################\n",
    "######################## Model compilation and run ###################\n",
    "######################################################################\n",
    "model.compile(optimizer = RMSprop(learning_rate=0.001),\n",
    "              loss = abs_loss_function, \n",
    "              metrics = [abs_loss_function])\n",
    "history = model.fit(x=train_x_list,\n",
    "                    y=train_y_list,\n",
    "                    batch_size=32,\n",
    "                    epochs=5,\n",
    "                    validation_split=0.1,\n",
    "                    verbose=1)"
   ]
  }
 ],
 "metadata": {
  "kernelspec": {
   "display_name": "Python 3 (ipykernel)",
   "language": "python",
   "name": "python3"
  },
  "language_info": {
   "codemirror_mode": {
    "name": "ipython",
    "version": 3
   },
   "file_extension": ".py",
   "mimetype": "text/x-python",
   "name": "python",
   "nbconvert_exporter": "python",
   "pygments_lexer": "ipython3",
   "version": "3.10.7"
  }
 },
 "nbformat": 4,
 "nbformat_minor": 5
}
