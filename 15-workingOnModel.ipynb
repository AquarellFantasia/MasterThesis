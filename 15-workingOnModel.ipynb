{
 "cells": [
  {
   "cell_type": "code",
   "execution_count": 1,
   "id": "ad176564",
   "metadata": {},
   "outputs": [
    {
     "name": "stderr",
     "output_type": "stream",
     "text": [
      "2023-01-26 03:13:10.659786: I tensorflow/core/platform/cpu_feature_guard.cc:193] This TensorFlow binary is optimized with oneAPI Deep Neural Network Library (oneDNN) to use the following CPU instructions in performance-critical operations:  AVX2 AVX512F FMA\n",
      "To enable them in other operations, rebuild TensorFlow with the appropriate compiler flags.\n",
      "2023-01-26 03:13:12.452912: W tensorflow/compiler/xla/stream_executor/platform/default/dso_loader.cc:64] Could not load dynamic library 'libnvinfer.so.7'; dlerror: libnvinfer.so.7: cannot open shared object file: No such file or directory; LD_LIBRARY_PATH: /appl/cudnn/v8.3.2.44-prod-cuda-11.5/lib:/appl/cuda/11.6.0/lib64:/appl/python/3.10.7/lib:/appl/gcc/11.3.0-binutils-2.38/lib64:/appl/gcc/11.3.0-binutils-2.38/lib:/lsf/10.1/linux3.10-glibc2.17-x86_64/lib\n",
      "2023-01-26 03:13:12.453554: W tensorflow/compiler/xla/stream_executor/platform/default/dso_loader.cc:64] Could not load dynamic library 'libnvinfer_plugin.so.7'; dlerror: libnvinfer_plugin.so.7: cannot open shared object file: No such file or directory; LD_LIBRARY_PATH: /appl/cudnn/v8.3.2.44-prod-cuda-11.5/lib:/appl/cuda/11.6.0/lib64:/appl/python/3.10.7/lib:/appl/gcc/11.3.0-binutils-2.38/lib64:/appl/gcc/11.3.0-binutils-2.38/lib:/lsf/10.1/linux3.10-glibc2.17-x86_64/lib\n",
      "2023-01-26 03:13:12.453565: W tensorflow/compiler/tf2tensorrt/utils/py_utils.cc:38] TF-TRT Warning: Cannot dlopen some TensorRT libraries. If you would like to use Nvidia GPU with TensorRT, please make sure the missing libraries mentioned above are installed properly.\n"
     ]
    }
   ],
   "source": [
    "%matplotlib inline\n",
    "import sys\n",
    "import os\n",
    "import pandas as pd\n",
    "import numpy as np\n",
    "import matplotlib.pyplot as plt\n",
    "from datetime import datetime \n",
    "\n",
    "import tensorflow as tf\n",
    "from tensorflow import keras\n",
    "from tensorflow.keras import layers\n",
    "from keras.models import Model\n",
    "from keras.utils import Sequence\n",
    "from keras.utils import load_img\n",
    "from keras.optimizers import RMSprop\n",
    "from keras.optimizers import Adam\n"
   ]
  },
  {
   "cell_type": "code",
   "execution_count": 2,
   "id": "c74d1b58",
   "metadata": {},
   "outputs": [
    {
     "name": "stdout",
     "output_type": "stream",
     "text": [
      "Thu Jan 26 03:13:16 2023       \r\n",
      "+-----------------------------------------------------------------------------+\r\n",
      "| NVIDIA-SMI 525.60.13    Driver Version: 525.60.13    CUDA Version: 12.0     |\r\n",
      "|-------------------------------+----------------------+----------------------+\r\n",
      "| GPU  Name        Persistence-M| Bus-Id        Disp.A | Volatile Uncorr. ECC |\r\n",
      "| Fan  Temp  Perf  Pwr:Usage/Cap|         Memory-Usage | GPU-Util  Compute M. |\r\n",
      "|                               |                      |               MIG M. |\r\n",
      "|===============================+======================+======================|\r\n",
      "|   0  Tesla V100-PCIE...  On   | 00000000:37:00.0 Off |                    0 |\r\n",
      "| N/A   35C    P0    38W / 250W |   7536MiB / 16384MiB |      0%      Default |\r\n",
      "|                               |                      |                  N/A |\r\n",
      "+-------------------------------+----------------------+----------------------+\r\n",
      "|   1  Tesla V100-PCIE...  On   | 00000000:AF:00.0 Off |                    0 |\r\n",
      "| N/A   31C    P0    25W / 250W |      0MiB / 16384MiB |      0%      Default |\r\n",
      "|                               |                      |                  N/A |\r\n",
      "+-------------------------------+----------------------+----------------------+\r\n",
      "                                                                               \r\n",
      "+-----------------------------------------------------------------------------+\r\n",
      "| Processes:                                                                  |\r\n",
      "|  GPU   GI   CI        PID   Type   Process name                  GPU Memory |\r\n",
      "|        ID   ID                                                   Usage      |\r\n",
      "|=============================================================================|\r\n",
      "|    0   N/A  N/A      2418      C   ...onda3/envs/cil/bin/python      340MiB |\r\n",
      "|    0   N/A  N/A     25905      C   ...4/Masters/venv/bin/python     7192MiB |\r\n",
      "+-----------------------------------------------------------------------------+\r\n"
     ]
    }
   ],
   "source": [
    "!nvidia-smi"
   ]
  },
  {
   "cell_type": "code",
   "execution_count": 3,
   "id": "41361242",
   "metadata": {},
   "outputs": [
    {
     "data": {
      "text/plain": [
       "[PhysicalDevice(name='/physical_device:GPU:0', device_type='GPU')]"
      ]
     },
     "execution_count": 3,
     "metadata": {},
     "output_type": "execute_result"
    }
   ],
   "source": [
    "tf.config.list_physical_devices('GPU')"
   ]
  },
  {
   "cell_type": "code",
   "execution_count": 4,
   "id": "eb1c0c24",
   "metadata": {},
   "outputs": [],
   "source": [
    "df = pd.read_csv('black_background_500x500.csv')\n",
    "train_df = df[df['ImagePath'].str.contains(\"train\")]\n",
    "test_df = df[df['ImagePath'].str.contains(\"test\")]\n",
    "valid_df = df[df['ImagePath'].str.contains(\"valid\")]\n",
    "\n",
    "input_size = 500"
   ]
  },
  {
   "cell_type": "code",
   "execution_count": 5,
   "id": "f533699f",
   "metadata": {},
   "outputs": [],
   "source": [
    "#########################################################\n",
    "################## data generator #######################\n",
    "#########################################################\n",
    "class datagenerator(tf.keras.utils.Sequence):\n",
    "    def __init__(self, \n",
    "            batch_size, \n",
    "            img_size,\n",
    "            data_paths_df,\n",
    "            input_channels,\n",
    "            output_channels):\n",
    "         \n",
    "        self.batch_size = batch_size\n",
    "        self.img_size = img_size\n",
    "        self.data_paths_df = data_paths_df\n",
    "        self.input_channels = input_channels\n",
    "        self.output_channels = output_channels\n",
    "        self.data_paths = data_paths_df.values[:,1]\n",
    "        self.params = data_paths_df.values[:,3:6]\n",
    "        assert len(self.data_paths) == len(self.params)\n",
    "        \n",
    "        self.n = len(self.data_paths)\n",
    "\n",
    "    def on_epoch_end(self):\n",
    "        'updates indexes after each epoch'\n",
    "        self.data_paths_df = self.data_paths_df.sample(frac = 1)\n",
    "        self.data_paths = self.data_paths_df.values[:,1]\n",
    "        self.params = self.data_paths_df.values[:,3:6]\n",
    "    \n",
    "    def __getitem__(self, index):\n",
    "        batch_data_paths = self.data_paths[index : index + self.batch_size]\n",
    "        batch_params_paths = self.params[index : index + self.batch_size]\n",
    "\n",
    "        return self.__dataloader(self.img_size,\n",
    "                batch_data_paths, batch_params_paths,\n",
    "                self.input_channels, self.output_channels)\n",
    "    \n",
    "    def __len__(self):\n",
    "        return self.n // self.batch_size\n",
    "\n",
    "    #################### data loader ########################\n",
    "    def __dataloader(self, \n",
    "            img_size,\n",
    "            data_paths,\n",
    "            batch_params_paths,\n",
    "            input_channels,\n",
    "            output_channels):\n",
    "        x = np.zeros((len(data_paths), img_size[0], img_size[1], input_channels))\n",
    "        y = batch_params_paths        \n",
    "        \n",
    "        for i in range(len(data_paths)):\n",
    "            data = load_img(path = data_paths[i], color_mode = \"grayscale\")\n",
    "            data = tf.keras.utils.img_to_array(data, data_format=\"channels_last\", dtype=\"float32\")\n",
    "            data /= 255\n",
    "#             data.shape = (1,) + data.shape\n",
    "            x[i] = np.asarray(data)\n",
    "        return x.astype(\"float32\"), np.array(y).astype(\"float32\")"
   ]
  },
  {
   "cell_type": "code",
   "execution_count": 6,
   "id": "e309dfa1",
   "metadata": {},
   "outputs": [
    {
     "name": "stdout",
     "output_type": "stream",
     "text": [
      "Model: \"model\"\n",
      "_________________________________________________________________\n",
      " Layer (type)                Output Shape              Param #   \n",
      "=================================================================\n",
      " input_1 (InputLayer)        [(None, 500, 500, 1)]     0         \n",
      "                                                                 \n",
      " conv2d_1 (Conv2D)           (None, 490, 490, 16)      1952      \n",
      "                                                                 \n",
      " max_pooling2d (MaxPooling2D  (None, 122, 122, 16)     0         \n",
      " )                                                               \n",
      "                                                                 \n",
      " conv2d_2 (Conv2D)           (None, 118, 118, 16)      6416      \n",
      "                                                                 \n",
      " conv2d_3 (Conv2D)           (None, 114, 114, 16)      6416      \n",
      "                                                                 \n",
      " max_pooling2d_1 (MaxPooling  (None, 28, 28, 16)       0         \n",
      " 2D)                                                             \n",
      "                                                                 \n",
      " conv2d_4 (Conv2D)           (None, 24, 24, 16)        6416      \n",
      "                                                                 \n",
      " conv2d_5 (Conv2D)           (None, 20, 20, 16)        6416      \n",
      "                                                                 \n",
      " flatten (Flatten)           (None, 6400)              0         \n",
      "                                                                 \n",
      " dense (Dense)               (None, 64)                409664    \n",
      "                                                                 \n",
      " dropout (Dropout)           (None, 64)                0         \n",
      "                                                                 \n",
      " dense_1 (Dense)             (None, 3)                 195       \n",
      "                                                                 \n",
      "=================================================================\n",
      "Total params: 437,475\n",
      "Trainable params: 437,475\n",
      "Non-trainable params: 0\n",
      "_________________________________________________________________\n"
     ]
    },
    {
     "name": "stderr",
     "output_type": "stream",
     "text": [
      "2023-01-26 03:13:16.775778: I tensorflow/core/platform/cpu_feature_guard.cc:193] This TensorFlow binary is optimized with oneAPI Deep Neural Network Library (oneDNN) to use the following CPU instructions in performance-critical operations:  AVX2 AVX512F FMA\n",
      "To enable them in other operations, rebuild TensorFlow with the appropriate compiler flags.\n",
      "2023-01-26 03:13:17.499952: I tensorflow/core/common_runtime/gpu/gpu_device.cc:1613] Created device /job:localhost/replica:0/task:0/device:GPU:0 with 14610 MB memory:  -> device: 0, name: Tesla V100-PCIE-16GB, pci bus id: 0000:af:00.0, compute capability: 7.0\n"
     ]
    }
   ],
   "source": [
    "inputs = keras.Input(shape=(input_size, input_size, 1))\n",
    "x = layers.Conv2D(filters=16, kernel_size=11, activation=\"relu\")(inputs)\n",
    "x = layers.Conv2D(filters=16, kernel_size=11, activation=\"relu\")(inputs)\n",
    "x = layers.MaxPooling2D(pool_size=4)(x)\n",
    "x = layers.Conv2D(filters=16, kernel_size=5, activation=\"relu\")(x)\n",
    "x = layers.Conv2D(filters=16, kernel_size=5, activation=\"relu\")(x)\n",
    "x = layers.MaxPooling2D(pool_size=4)(x)\n",
    "x = layers.Conv2D(filters=16, kernel_size=5, activation=\"relu\")(x)\n",
    "x = layers.Conv2D(filters=16, kernel_size=5, activation=\"relu\")(x)\n",
    "x = layers.Flatten()(x)\n",
    "x = layers.Dense(64, activation=\"relu\")(x)\n",
    "x = layers.Dropout(0.3)(x)\n",
    "outputs = layers.Dense(3)(x)\n",
    "model = keras.Model(inputs=inputs, outputs=outputs)\n",
    "model.summary()"
   ]
  },
  {
   "cell_type": "code",
   "execution_count": 39,
   "id": "a4e109ca",
   "metadata": {},
   "outputs": [
    {
     "name": "stdout",
     "output_type": "stream",
     "text": [
      "Model: \"model_14\"\n",
      "_________________________________________________________________\n",
      " Layer (type)                Output Shape              Param #   \n",
      "=================================================================\n",
      " input_15 (InputLayer)       [(None, 500, 500, 1)]     0         \n",
      "                                                                 \n",
      " conv2d_98 (Conv2D)          (None, 498, 498, 4)       40        \n",
      "                                                                 \n",
      " conv2d_99 (Conv2D)          (None, 496, 496, 4)       148       \n",
      "                                                                 \n",
      " max_pooling2d_48 (MaxPoolin  (None, 62, 62, 4)        0         \n",
      " g2D)                                                            \n",
      "                                                                 \n",
      " conv2d_100 (Conv2D)         (None, 60, 60, 4)         148       \n",
      "                                                                 \n",
      " conv2d_101 (Conv2D)         (None, 58, 58, 4)         148       \n",
      "                                                                 \n",
      " max_pooling2d_49 (MaxPoolin  (None, 14, 14, 4)        0         \n",
      " g2D)                                                            \n",
      "                                                                 \n",
      " conv2d_102 (Conv2D)         (None, 12, 12, 4)         148       \n",
      "                                                                 \n",
      " conv2d_103 (Conv2D)         (None, 10, 10, 4)         148       \n",
      "                                                                 \n",
      " max_pooling2d_50 (MaxPoolin  (None, 5, 5, 4)          0         \n",
      " g2D)                                                            \n",
      "                                                                 \n",
      " flatten_14 (Flatten)        (None, 100)               0         \n",
      "                                                                 \n",
      " dense_28 (Dense)            (None, 32)                3232      \n",
      "                                                                 \n",
      " dense_29 (Dense)            (None, 3)                 99        \n",
      "                                                                 \n",
      "=================================================================\n",
      "Total params: 4,111\n",
      "Trainable params: 4,111\n",
      "Non-trainable params: 0\n",
      "_________________________________________________________________\n"
     ]
    }
   ],
   "source": [
    "inputs = keras.Input(shape=(input_size, input_size, 1))\n",
    "x = layers.Conv2D(filters=4, kernel_size=3, activation=\"relu\")(inputs)\n",
    "x = layers.Conv2D(filters=4, kernel_size=3, activation=\"relu\")(x)\n",
    "x = layers.MaxPooling2D(pool_size=8)(x)\n",
    "x = layers.Conv2D(filters=4, kernel_size=3, activation=\"relu\")(x)\n",
    "x = layers.Conv2D(filters=4, kernel_size=3, activation=\"relu\")(x)\n",
    "x = layers.MaxPooling2D(pool_size=4)(x)\n",
    "x = layers.Conv2D(filters=4, kernel_size=3, activation=\"relu\")(x)\n",
    "x = layers.Conv2D(filters=4, kernel_size=3, activation=\"relu\")(x)\n",
    "x = layers.MaxPooling2D(pool_size=2)(x)\n",
    "x = layers.Flatten()(x)\n",
    "x = layers.Dense(32, activation=\"relu\")(x) \n",
    "outputs = layers.Dense(3)(x)\n",
    "model = keras.Model(inputs=inputs, outputs=outputs)\n",
    "model.summary()"
   ]
  },
  {
   "cell_type": "raw",
   "id": "15a4f0e9",
   "metadata": {},
   "source": [
    "inputs = keras.Input(shape=(input_size, input_size, 1))\n",
    "x = layers.Conv2D(filters=32, kernel_size=11, activation=\"relu\")(inputs)\n",
    "x = layers.Conv2D(filters=32, kernel_size=11, activation=\"relu\")(x)\n",
    "x = layers.Conv2D(filters=32, kernel_size=11, activation=\"relu\")(x)\n",
    "x = layers.MaxPooling2D(pool_size=2)(x)\n",
    "x = layers.Conv2D(filters=32, kernel_size=5, activation=\"relu\")(x)\n",
    "x = layers.Conv2D(filters=32, kernel_size=5, activation=\"relu\")(x)\n",
    "x = layers.Conv2D(filters=32, kernel_size=5, activation=\"relu\")(x)\n",
    "x = layers.MaxPooling2D(pool_size=2)(x)\n",
    "x = layers.Conv2D(filters=32, kernel_size=3, activation=\"relu\")(x)\n",
    "x = layers.Conv2D(filters=32, kernel_size=3, activation=\"relu\")(x)\n",
    "x = layers.Conv2D(filters=32, kernel_size=3, activation=\"relu\")(x)\n",
    "x = layers.MaxPooling2D(pool_size=2)(x)\n",
    "x = layers.Conv2D(filters=32, kernel_size=3, activation=\"relu\")(x)\n",
    "x = layers.Conv2D(filters=32, kernel_size=3, activation=\"relu\")(x)\n",
    "x = layers.Conv2D(filters=32, kernel_size=3, activation=\"relu\")(x)\n",
    "x = layers.MaxPooling2D(pool_size=2)(x)\n",
    "x = layers.Conv2D(filters=32, kernel_size=3, activation=\"relu\")(x)\n",
    "x = layers.Conv2D(filters=32, kernel_size=3, activation=\"relu\")(x)\n",
    "x = layers.Conv2D(filters=32, kernel_size=3, activation=\"relu\")(x)\n",
    "x = layers.MaxPooling2D(pool_size=4)(x)\n",
    "x = layers.Flatten()(x)\n",
    "x = layers.Dense(210, activation=\"relu\")(x)\n",
    "x = layers.Dense(210, activation=\"relu\")(x)\n",
    "x = layers.Dense(210, activation=\"relu\")(x)\n",
    "x = layers.Dense(32, activation=\"sigmoid\")(x)\n",
    "outputs = layers.Dense(3)(x)\n",
    "\n",
    "model = keras.Model(inputs=inputs, outputs=outputs)\n",
    "model.summary()"
   ]
  },
  {
   "cell_type": "code",
   "execution_count": 40,
   "id": "901d44f7",
   "metadata": {},
   "outputs": [],
   "source": [
    "import keras.backend as K\n",
    "  \n",
    "def abs_loss_function(y_true, y_pred):   \n",
    "    abs_diff = K.abs(y_true - y_pred)\n",
    "    ones = tf.ones_like(y_true)\n",
    "    abs_diff_reversed = K.abs(ones - abs_diff )   \n",
    "    minimum_from_two = tf.math.minimum(abs_diff, abs_diff_reversed) \n",
    "    return tf.math.reduce_mean(minimum_from_two, axis=-1)\n",
    "\n",
    "def square_abs_min_loss(y_true, y_pred):   \n",
    "    abs_diff = K.abs(y_true - y_pred)\n",
    "    ones = tf.ones_like(y_true)\n",
    "    abs_diff_reversed = K.abs(tf.ones_like(y_true) - abs_diff )   \n",
    "    minimum_from_two = tf.math.minimum(abs_diff, abs_diff_reversed) \n",
    "    min_sq = tf.math.sqrt(minimum_from_two)\n",
    "    return tf.math.reduce_mean(min_sq, axis=-1) \n",
    "\n",
    "def smart_square_abs_min_loss(y_true, y_pred):  \n",
    "    punished_y_pred = tf.where((y_pred<0)|(y_pred>1), 3.0 + K.abs(y_pred),y_pred)\n",
    "    \n",
    "    abs_diff = K.abs(y_true - punished_y_pred)\n",
    "    ones = tf.ones_like(y_true)\n",
    "    abs_diff_reversed = K.abs(ones - abs_diff)   \n",
    "    minimum_from_two = tf.math.minimum(abs_diff, abs_diff_reversed) \n",
    "#     print(\"_________________ 1 __________________\")\n",
    "#     print(abs_diff.numpy())\n",
    "#     print(\"_________________ 2 __________________\")\n",
    "#     print(y_pred.numpy())\n",
    "#     print(\"_________________ 3 __________________\")\n",
    "#     print(punished_y_pred.numpy())\n",
    "    \n",
    "    return tf.math.reduce_mean(minimum_from_two, axis=-1)\n",
    "    \n",
    "############################# For debugging ####################################\n",
    "#     print(\"_________________ 1 __________________\")\n",
    "#     print(abs_diff_reversed.numpy())\n",
    "#     print(\"_________________ 2 __________________\")\n",
    "#     print(abs_diff.numpy())"
   ]
  },
  {
   "cell_type": "code",
   "execution_count": 41,
   "id": "46cc035f",
   "metadata": {},
   "outputs": [],
   "source": [
    "from keras.callbacks import LambdaCallback\n",
    "test_g = datagenerator(32, (input_size,input_size), test_df, 1, 3)\n",
    "def evaluate_model(self, epoch, logs=None):\n",
    "    model.evaluate(test_g, batch_size=32)\n",
    "    print(self)\n",
    "    \n",
    "evaluate_callback = LambdaCallback(on_epoch_end=evaluate_model, period=1)"
   ]
  },
  {
   "cell_type": "code",
   "execution_count": 16,
   "id": "a04b2652",
   "metadata": {},
   "outputs": [],
   "source": [
    "from keras.callbacks import *"
   ]
  },
  {
   "cell_type": "code",
   "execution_count": 42,
   "id": "621c458c",
   "metadata": {},
   "outputs": [],
   "source": [
    "\n",
    "class LossHistory(keras.callbacks.Callback):\n",
    "    def on_epoch_end(self, epoch, logs):\n",
    "        if epoch % 10 == 0:\n",
    "            print(\"-------------------------------------------------------\")\n",
    "            model_e = self.model.evaluate(test_g, batch_size=32)\n",
    "            print(model_e[1])\n",
    "            print(\"-------------------------------------------------------\")"
   ]
  },
  {
   "cell_type": "code",
   "execution_count": 43,
   "id": "ce477929",
   "metadata": {},
   "outputs": [
    {
     "name": "stdout",
     "output_type": "stream",
     "text": [
      "273/273 [==============================] - ETA: 0s - loss: 0.2359 - abs_loss_function: 0.2359 - accuracy: 0.3043-------------------------------------------------------\n",
      "31/31 [==============================] - 6s 199ms/step - loss: 0.2545 - abs_loss_function: 0.2545 - accuracy: 0.3962\n",
      "[0.2545084059238434, 0.2545084059238434, 0.39616936445236206]\n",
      "-------------------------------------------------------\n",
      "273/273 [==============================] - 89s 323ms/step - loss: 0.2359 - abs_loss_function: 0.2359 - accuracy: 0.3043 - val_loss: 0.2660 - val_abs_loss_function: 0.2660 - val_accuracy: 0.3024\n"
     ]
    }
   ],
   "source": [
    "model.compile(optimizer = RMSprop(learning_rate=0.001),\n",
    "              loss = abs_loss_function, \n",
    "              metrics = [abs_loss_function, \"accuracy\"],\n",
    "              run_eagerly=True)  # Add run_eagerly=True to enable the numpy debugging\n",
    "\n",
    "tg = datagenerator(32, (input_size,input_size), train_df, 1, 3)\n",
    "vg = datagenerator(32, (input_size,input_size), valid_df, 1, 3)\n",
    "history = model.fit(x=tg,\n",
    "                    batch_size=32,\n",
    "                    epochs=1,\n",
    "                    validation_data=vg,\n",
    "                    callbacks=[LossHistory()])"
   ]
  },
  {
   "cell_type": "code",
   "execution_count": 44,
   "id": "b9d6256f",
   "metadata": {},
   "outputs": [
    {
     "name": "stdout",
     "output_type": "stream",
     "text": [
      "31/31 [==============================] - 8s 243ms/step - loss: 0.2404 - abs_loss_function: 0.2404 - accuracy: 0.2782\n"
     ]
    }
   ],
   "source": [
    "model_e = model.evaluate(test_g, batch_size=32)"
   ]
  },
  {
   "cell_type": "code",
   "execution_count": 45,
   "id": "370c70d7",
   "metadata": {},
   "outputs": [
    {
     "name": "stdout",
     "output_type": "stream",
     "text": [
      "31/31 [==============================] - 8s 240ms/step - loss: 0.2680 - abs_loss_function: 0.2680 - accuracy: 0.4808\n"
     ]
    },
    {
     "data": {
      "text/plain": [
       "[0.26796549558639526, 0.26796549558639526, 0.4808467626571655]"
      ]
     },
     "execution_count": 45,
     "metadata": {},
     "output_type": "execute_result"
    }
   ],
   "source": [
    "model.evaluate(test_g, batch_size=32)\n"
   ]
  },
  {
   "cell_type": "code",
   "execution_count": 46,
   "id": "018afab6",
   "metadata": {},
   "outputs": [
    {
     "data": {
      "text/plain": [
       "0.2404078245162964"
      ]
     },
     "execution_count": 46,
     "metadata": {},
     "output_type": "execute_result"
    }
   ],
   "source": [
    "model_e[1]"
   ]
  },
  {
   "cell_type": "code",
   "execution_count": null,
   "id": "341ba6ec",
   "metadata": {},
   "outputs": [],
   "source": [
    "model.compile(optimizer = RMSprop(learning_rate=0.001),\n",
    "              loss = square_abs_min_loss, \n",
    "              metrics = [square_abs_min_loss, \"accuracy\"],\n",
    "              run_eagerly=True)  # Add run_eagerly=True to enable the numpy debugging\n",
    "\n",
    "tg = datagenerator(32, (input_size,input_size), train_df, 1, 3)\n",
    "vg = datagenerator(32, (input_size,input_size), valid_df, 1, 3)\n",
    "history2 = model.fit(x=tg,\n",
    "                    batch_size=32,\n",
    "                    epochs=50,\n",
    "                    validation_data=vg)"
   ]
  },
  {
   "cell_type": "code",
   "execution_count": null,
   "id": "05f3068d",
   "metadata": {},
   "outputs": [],
   "source": [
    "model.compile(optimizer = RMSprop(learning_rate=0.001),\n",
    "              loss = square_abs_min_loss, \n",
    "              metrics = [square_abs_min_loss, \"accuracy\"],\n",
    "              run_eagerly=True)  # Add run_eagerly=True to enable the numpy debugging\n",
    "\n",
    "tg = datagenerator(32, (input_size,input_size), train_df, 1, 3)\n",
    "vg = datagenerator(32, (input_size,input_size), valid_df, 1, 3)\n",
    "history3 = model.fit(x=tg,\n",
    "                    batch_size=32,\n",
    "                    epochs=50,\n",
    "                    validation_data=vg)"
   ]
  },
  {
   "cell_type": "code",
   "execution_count": null,
   "id": "16593473",
   "metadata": {},
   "outputs": [],
   "source": [
    "def plot_accuracy_loss(history, name):\n",
    "    \"\"\"\n",
    "        Plot the accuracy and the loss during the training of the nn.\n",
    "    \"\"\"\n",
    "    fig = plt.figure(figsize=(12,5))\n",
    "\n",
    "    # Plot accuracy\n",
    "    plt.subplot(221)\n",
    "    plt.plot(history.history['accuracy'],'bo--', label = \"acc\")\n",
    "    plt.plot(history.history['val_accuracy'],'ro--', label = \"val_accuracy\")\n",
    "    plt.title(\"train_acc vs val_acc\")\n",
    "    plt.ylabel(\"accuracy\")\n",
    "    plt.xlabel(\"epochs\")\n",
    "    plt.legend()\n",
    "    \n",
    "    # Plot loss function\n",
    "    plt.subplot(222)\n",
    "    plt.plot(history.history['loss'],'bo--', label = \"loss\")\n",
    "    plt.plot(history.history['val_loss'],'ro--', label = \"val_loss\")\n",
    "    plt.title(\"train_loss vs val_loss\")\n",
    "    plt.ylabel(\"loss\")\n",
    "    plt.xlabel(\"epochs\")\n",
    "\n",
    "    plt.legend()\n",
    "plot_accuracy_loss(history, \"1\")"
   ]
  },
  {
   "cell_type": "code",
   "execution_count": null,
   "id": "348f3e30",
   "metadata": {},
   "outputs": [],
   "source": [
    "def load_model_a():\n",
    "    inputs = keras.Input(shape=(input_size, input_size, 1))\n",
    "    x = layers.Conv2D(filters=32, kernel_size=3, activation=\"relu\")(inputs)\n",
    "    x = layers.Conv2D(filters=32, kernel_size=3, activation=\"relu\")(x)\n",
    "    x = layers.MaxPooling2D(pool_size=4)(x)\n",
    "    x = layers.Conv2D(filters=32, kernel_size=3, activation=\"relu\")(x)\n",
    "    x = layers.Conv2D(filters=32, kernel_size=3, activation=\"relu\")(x)\n",
    "    x = layers.MaxPooling2D(pool_size=4)(x)\n",
    "    x = layers.Conv2D(filters=32, kernel_size=3, activation=\"relu\")(x)\n",
    "    x = layers.Conv2D(filters=32, kernel_size=3, activation=\"relu\")(x)\n",
    "    x = layers.MaxPooling2D(pool_size=4)(x)\n",
    "    x = layers.Flatten()(x)\n",
    "    x = layers.Dense(128, activation=\"relu\")(x)\n",
    "    x = layers.Dense(16, activation=\"relu\")(x)\n",
    "    outputs = layers.Dense(3)(x)\n",
    "    \n",
    "    model = keras.Model(inputs=inputs, outputs=outputs)\n",
    "    return model\n",
    "\n",
    "\n",
    "def load_model_b():\n",
    "    inputs = keras.Input(shape=(input_size, input_size, 1))\n",
    "    x = layers.Conv2D(filters=16, kernel_size=11, activation=\"relu\")(inputs)\n",
    "    x = layers.Conv2D(filters=16, kernel_size=7, activation=\"relu\")(x)\n",
    "    x = layers.MaxPooling2D(pool_size=2)(x)\n",
    "    x = layers.Conv2D(filters=16, kernel_size=5, activation=\"relu\")(x)\n",
    "    x = layers.Conv2D(filters=16, kernel_size=3, activation=\"relu\")(x)\n",
    "    x = layers.MaxPooling2D(pool_size=2)(x)\n",
    "    x = layers.Conv2D(filters=16, kernel_size=3, activation=\"relu\")(x)\n",
    "    x = layers.Conv2D(filters=16, kernel_size=3, activation=\"relu\")(x)\n",
    "    x = layers.MaxPooling2D(pool_size=2)(x)\n",
    "    x = layers.Conv2D(filters=16, kernel_size=3, activation=\"relu\")(x)\n",
    "    x = layers.Conv2D(filters=16, kernel_size=3, activation=\"relu\")(x)\n",
    "    x = layers.MaxPooling2D(pool_size=2)(x)\n",
    "    x = layers.Conv2D(filters=16, kernel_size=3, activation=\"relu\")(x)\n",
    "    x = layers.Conv2D(filters=16, kernel_size=3, activation=\"relu\")(x)\n",
    "    x = layers.MaxPooling2D(pool_size=2)(x)\n",
    "    x = layers.Flatten()(x)\n",
    "    x = layers.Dense(128, activation=\"relu\")(x)\n",
    "    x = layers.Dense(16, activation=\"relu\")(x)\n",
    "    outputs = layers.Dense(3)(x)\n",
    "    \n",
    "    model = keras.Model(inputs=inputs, outputs=outputs)\n",
    "    return model\n",
    "\n",
    "def load_model_c():\n",
    "    inputs = keras.Input(shape=(input_size, input_size, 1))\n",
    "    x = layers.Conv2D(filters=16, kernel_size=11, activation=\"relu\")(inputs)\n",
    "    x = layers.Conv2D(filters=16, kernel_size=7, activation=\"relu\")(x)\n",
    "    x = layers.MaxPooling2D(pool_size=2)(x)\n",
    "    x = layers.Conv2D(filters=16, kernel_size=5, activation=\"relu\")(x)\n",
    "    x = layers.Conv2D(filters=16, kernel_size=3, activation=\"relu\")(x)\n",
    "    x = layers.MaxPooling2D(pool_size=2)(x)\n",
    "    x = layers.Conv2D(filters=16, kernel_size=3, activation=\"relu\")(x)\n",
    "    x = layers.Conv2D(filters=16, kernel_size=3, activation=\"relu\")(x)\n",
    "    x = layers.MaxPooling2D(pool_size=2)(x)\n",
    "    x = layers.Conv2D(filters=16, kernel_size=3, activation=\"relu\")(x)\n",
    "    x = layers.Conv2D(filters=16, kernel_size=3, activation=\"relu\")(x)\n",
    "    x = layers.MaxPooling2D(pool_size=2)(x)\n",
    "    x = layers.Conv2D(filters=16, kernel_size=3, activation=\"relu\")(x)\n",
    "    x = layers.Conv2D(filters=16, kernel_size=3, activation=\"relu\")(x)\n",
    "    x = layers.MaxPooling2D(pool_size=2)(x)\n",
    "    x = layers.Flatten()(x)\n",
    "    x = layers.Dense(128, activation=\"relu\", kernel_regularizer=keras.regularizers.l2(0.01))(x)\n",
    "    x = layers.Dense(16, activation=\"relu\", kernel_regularizer=keras.regularizers.l2(0.01))(x) \n",
    "    outputs = layers.Dense(3)(x)\n",
    "    \n",
    "    model = keras.Model(inputs=inputs, outputs=outputs)\n",
    "    return model\n",
    "\n",
    "\n",
    "def plot_accuracy_loss(history):\n",
    "    \"\"\"\n",
    "        Plot the accuracy and the loss during the training of the nn.\n",
    "    \"\"\"\n",
    "    fig = plt.figure(figsize=(12,5))\n",
    "\n",
    "    # Plot accuracy\n",
    "    plt.subplot(221)\n",
    "    plt.plot(history.history['accuracy'],'bo--', label = \"acc\")\n",
    "    plt.plot(history.history['val_accuracy'],'ro--', label = \"val_accuracy\")\n",
    "    plt.title(\"train_acc vs val_acc\")\n",
    "    plt.ylabel(\"accuracy\")\n",
    "    plt.xlabel(\"epochs\")\n",
    "    plt.legend()\n",
    "    \n",
    "    # Plot loss function\n",
    "    plt.subplot(222)\n",
    "    plt.plot(history.history['loss'],'bo--', label = \"loss\")\n",
    "    plt.plot(history.history['val_loss'],'ro--', label = \"val_loss\")\n",
    "    plt.title(\"train_loss vs val_loss\")\n",
    "    plt.ylabel(\"loss\")\n",
    "    plt.xlabel(\"epochs\")\n",
    "\n",
    "    plt.legend()\n",
    "\n",
    "def load_and_train_model(model, epochs = 100, loss_func = abs_loss_function):\n",
    "    tg = datagenerator(32, (input_size,input_size), train_df, 1, 3)\n",
    "    vg = datagenerator(32, (input_size,input_size), valid_df, 1, 3)\n",
    "    model.compile(optimizer = RMSprop(learning_rate=0.001),\n",
    "                  loss = loss_func, \n",
    "                  metrics = [\"accuracy\", loss_func])  # Add run_eagerly=True to enable the numpy debugging\n",
    "    \n",
    "    history = model.fit(x=tg,\n",
    "                        batch_size=32,\n",
    "                        epochs=epochs,\n",
    "                        validation_data=vg)\n",
    "    \n",
    "    \n",
    "    plot_accuracy_loss(history)\n",
    "    return history"
   ]
  },
  {
   "cell_type": "code",
   "execution_count": null,
   "id": "568e8bae",
   "metadata": {},
   "outputs": [],
   "source": [
    "func_m = eval(\"load_model_c\")\n",
    "model_ask = func_m()\n",
    "model_ask.summary()"
   ]
  },
  {
   "cell_type": "code",
   "execution_count": null,
   "id": "64b487d4",
   "metadata": {},
   "outputs": [],
   "source": [
    "model_a = load_model_a()\n",
    "model_a.summary()"
   ]
  },
  {
   "cell_type": "code",
   "execution_count": null,
   "id": "4c7b8c1d",
   "metadata": {},
   "outputs": [],
   "source": [
    "history_a = load_and_train_model(model_a, 100, abs_loss_function)"
   ]
  },
  {
   "cell_type": "code",
   "execution_count": null,
   "id": "dfee6523",
   "metadata": {},
   "outputs": [],
   "source": [
    "model_b = load_model_b()\n",
    "model_b.summary()"
   ]
  },
  {
   "cell_type": "code",
   "execution_count": null,
   "id": "278d0a5f",
   "metadata": {},
   "outputs": [],
   "source": [
    "history_b = load_and_train_model(model_b, 100, abs_loss_function)"
   ]
  },
  {
   "cell_type": "code",
   "execution_count": null,
   "id": "1179a5ba",
   "metadata": {},
   "outputs": [],
   "source": [
    "model_c = load_model_c()\n",
    "model_c.summary()"
   ]
  },
  {
   "cell_type": "code",
   "execution_count": null,
   "id": "1c4886c3",
   "metadata": {},
   "outputs": [],
   "source": [
    "history_c = load_and_train_model(model_c, 100, abs_loss_function)"
   ]
  },
  {
   "cell_type": "code",
   "execution_count": null,
   "id": "36dd1aa6",
   "metadata": {},
   "outputs": [],
   "source": [
    "def plot_accuracy_loss(history, name):\n",
    "    \"\"\"\n",
    "        Plot the accuracy and the loss during the training of the nn.\n",
    "    \"\"\"\n",
    "    fig = plt.figure(figsize=(12,5))\n",
    "\n",
    "    # Plot accuracy\n",
    "    plt.subplot(221)\n",
    "    plt.plot(history.history['accuracy'],'bo--', label = \"acc\")\n",
    "    plt.plot(history.history['val_accuracy'],'ro--', label = \"val_accuracy\")\n",
    "    plt.title(\"train_acc vs val_acc\")\n",
    "    plt.ylabel(\"accuracy\")\n",
    "    plt.xlabel(\"epochs\")\n",
    "    plt.legend()\n",
    "    \n",
    "    # Plot loss function\n",
    "    plt.subplot(222)\n",
    "    plt.plot(history.history['loss'],'bo--', label = \"loss\")\n",
    "    plt.plot(history.history['val_loss'],'ro--', label = \"val_loss\")\n",
    "    plt.title(\"train_loss vs val_loss\")\n",
    "    plt.ylabel(\"loss\")\n",
    "    plt.xlabel(\"epochs\")\n",
    "\n",
    "    plt.legend()\n",
    "\n",
    "def load_and_train_model(model, epochs = 100, loss_func = abs_loss_function):\n",
    "    tg = datagenerator(32, (input_size,input_size), train_df, 1, 3)\n",
    "    vg = datagenerator(32, (input_size,input_size), valid_df, 1, 3)\n",
    "    model.compile(optimizer = RMSprop(learning_rate=0.001),\n",
    "                  loss = loss_func, \n",
    "                  metrics = [\"accuracy\", loss_func])  # Add run_eagerly=True to enable the numpy debugging\n",
    "    \n",
    "    history = model.fit(x=tg,\n",
    "                        batch_size=32,\n",
    "                        epochs=epochs,\n",
    "                        validation_data=vg)\n",
    "    \n",
    "    \n",
    "    plot_accuracy_loss(history)\n",
    "    plt.savefig(\"{}.png\".format(name))\n",
    "    return history"
   ]
  },
  {
   "cell_type": "code",
   "execution_count": null,
   "id": "58320726",
   "metadata": {},
   "outputs": [],
   "source": [
    "plot_accuracy_loss(history_a)\n",
    "plot_accuracy_loss(history_b)\n",
    "plot_accuracy_loss(history_c)"
   ]
  },
  {
   "cell_type": "code",
   "execution_count": null,
   "id": "6d23dbb4",
   "metadata": {},
   "outputs": [],
   "source": []
  },
  {
   "cell_type": "code",
   "execution_count": null,
   "id": "407f977b",
   "metadata": {},
   "outputs": [],
   "source": []
  },
  {
   "cell_type": "code",
   "execution_count": null,
   "id": "6b2674f6",
   "metadata": {},
   "outputs": [],
   "source": []
  },
  {
   "cell_type": "code",
   "execution_count": null,
   "id": "65a198f7",
   "metadata": {},
   "outputs": [],
   "source": []
  },
  {
   "cell_type": "code",
   "execution_count": null,
   "id": "7e376a1e",
   "metadata": {},
   "outputs": [],
   "source": []
  },
  {
   "cell_type": "code",
   "execution_count": null,
   "id": "87f86d15",
   "metadata": {},
   "outputs": [],
   "source": [
    "model.summary()"
   ]
  },
  {
   "cell_type": "code",
   "execution_count": null,
   "id": "83b7f00c",
   "metadata": {},
   "outputs": [],
   "source": [
    "tg = datagenerator(32, (input_size,input_size), test_df, 1, 3)\n",
    "results = model.evaluate(tg, batch_size=32)\n",
    "print(\"test loss, test acc:\", results)"
   ]
  },
  {
   "cell_type": "code",
   "execution_count": null,
   "id": "17920843",
   "metadata": {},
   "outputs": [],
   "source": [
    "predictions = model.predict(tg)  \n",
    "pred_labels = np.argmax(predictions, axis = 1) # We take the highest probability"
   ]
  },
  {
   "cell_type": "code",
   "execution_count": null,
   "id": "ac897972",
   "metadata": {},
   "outputs": [],
   "source": [
    "predictions"
   ]
  },
  {
   "cell_type": "code",
   "execution_count": null,
   "id": "c211ded7",
   "metadata": {},
   "outputs": [],
   "source": [
    "t = test_df.values[1][1]\n",
    "data = load_img(path = t, grayscale = True)\n",
    "data = tf.keras.utils.img_to_array(data, data_format=\"channels_last\", dtype=\"float32\")\n",
    "data /= 255\n",
    "data.shape = (1,) + data.shape\n",
    "X = np.asarray(data)\n",
    "\n",
    "print(t)\n",
    "\n",
    "\n",
    "\n",
    "\n",
    "def predict_data(d):\n",
    "    yhat = model.predict(data)\n",
    "    yhat2 = np.where(yhat<0, 1+yhat, yhat)\n",
    "    print(yhat2*90)\n",
    "\n",
    "predict_data(data)"
   ]
  },
  {
   "cell_type": "code",
   "execution_count": null,
   "id": "f24791fd",
   "metadata": {},
   "outputs": [],
   "source": []
  },
  {
   "cell_type": "code",
   "execution_count": null,
   "id": "b3b84982",
   "metadata": {},
   "outputs": [],
   "source": [
    "def prdict_and_print(nr):\n",
    "    t = test_df.values[nr][1]\n",
    "    data = load_img(path = t, grayscale = True)\n",
    "    data = tf.keras.utils.img_to_array(data, data_format=\"channels_last\", dtype=\"float32\")\n",
    "    data /= 255\n",
    "    data.shape = (1,) + data.shape\n",
    "    X = np.asarray(data)\n",
    "    print(\"----------{}----------\".format(nr))\n",
    "    euler = test_df.values[nr]\n",
    "    print(\"phi1\", float(euler[3])*90)\n",
    "    print(\"PHI\",   float(euler[4])*90)\n",
    "    print(\"phi2\",  float(euler[5])*90)\n",
    "    yhat = model.predict(data)\n",
    "    print(\"predicted values\", yhat*90)\n",
    "\n",
    "    \n",
    "print(\"############### PREDICTIONS ###############\")\n",
    "for i in range(10):\n",
    "    prdict_and_print(i)\n",
    "print(\"############### PREDICTIONS ###############\")"
   ]
  },
  {
   "cell_type": "code",
   "execution_count": null,
   "id": "4de24180",
   "metadata": {},
   "outputs": [],
   "source": [
    "model_name = \"Best_model_so_far_abs_loss_function_RMSprop\"\n",
    "model.save(\"Models/{}.h5\".format(model_name), save_format = 'h5')"
   ]
  },
  {
   "cell_type": "raw",
   "id": "ec3990ea",
   "metadata": {},
   "source": [
    "from keras.models import load_model \n",
    "from tensorflow.keras.utils import CustomObjectScope\n",
    "\n",
    "with CustomObjectScope({'square_abs_min_loss': square_abs_min_loss}):\n",
    "    model2 = keras.models.load_model('Models/one.h5')\n"
   ]
  },
  {
   "cell_type": "raw",
   "id": "3c5dc500",
   "metadata": {},
   "source": [
    "del model "
   ]
  },
  {
   "cell_type": "raw",
   "id": "66e2eafa",
   "metadata": {},
   "source": [
    "epochs = range(1, len(history.history[\"loss\"]) + 1)\n",
    "loss = history.history[\"loss\"]"
   ]
  },
  {
   "cell_type": "raw",
   "id": "6231e846",
   "metadata": {},
   "source": [
    "t = test_df.values[45][1]\n",
    "data = load_img(path = t, grayscale = True)\n",
    "data = tf.keras.utils.img_to_array(data, data_format=\"channels_last\", dtype=\"float32\")\n",
    "data /= 255\n",
    "data.shape = (1,) + data.shape\n",
    "X = np.asarray(data)\n",
    "\n",
    "yhat = model.predict(data)\n",
    "print(t)\n",
    "print(yhat*90)"
   ]
  },
  {
   "cell_type": "raw",
   "id": "35a3b3f2",
   "metadata": {},
   "source": [
    "def custom_loss_function(y_true, y_pred):\n",
    "    # Calculate the error for each parameter using sqrt(2 - cos(y_hat - y_pred))\n",
    "    param_1_error = tf.math.sqrt(2 - tf.math.cos(y_true[:, 0] - y_pred[:, 0]))\n",
    "    param_2_error = tf.math.sqrt(2 - tf.math.cos(y_true[:, 1] - y_pred[:, 1]))\n",
    "    param_3_error = tf.math.sqrt(2 - tf.math.cos(y_true[:, 2] - y_pred[:, 2]))\n",
    "\n",
    "    # Calculate the total loss as the mean of the errors for each parameter\n",
    "    total_loss = (param_1_error + param_2_error + param_3_error) / 3\n",
    "    \n",
    "    return total_loss"
   ]
  },
  {
   "cell_type": "code",
   "execution_count": null,
   "id": "96510eb4",
   "metadata": {},
   "outputs": [],
   "source": [
    "def plot_accuracy_loss(history):\n",
    "    \"\"\"\n",
    "        Plot the accuracy and the loss during the training of the nn.\n",
    "    \"\"\"\n",
    "    fig = plt.figure(figsize=(12,5))\n",
    "\n",
    "    # Plot accuracy\n",
    "#     plt.subplot(221)\n",
    "#     plt.plot(history.history['accuracy'],'bo--', label = \"acc\")\n",
    "#     plt.plot(history.history['val_accuracy'],'ro--', label = \"val_accuracy\")\n",
    "#     plt.title(\"train_acc vs val_acc\")\n",
    "#     plt.ylabel(\"accuracy\")\n",
    "#     plt.xlabel(\"epochs\")\n",
    "#     plt.legend()\n",
    "    \n",
    "    # Plot loss function\n",
    "    plt.subplot(222)\n",
    "    plt.plot(history.history['loss'],'bo--', label = \"loss\")\n",
    "    plt.plot(history.history['val_loss'],'ro--', label = \"val_loss\")\n",
    "    plt.title(\"train_loss vs val_loss\")\n",
    "    plt.ylabel(\"loss\")\n",
    "    plt.xlabel(\"epochs\")\n",
    "\n",
    "    plt.legend()\n",
    "#     plt.savefig(\"graph_{}_{}_{}_{}.png\".format(input_size,input_size,input_size,input_size))\n",
    "plot_accuracy_loss(history)"
   ]
  }
 ],
 "metadata": {
  "kernelspec": {
   "display_name": "Python 3 (ipykernel)",
   "language": "python",
   "name": "python3"
  },
  "language_info": {
   "codemirror_mode": {
    "name": "ipython",
    "version": 3
   },
   "file_extension": ".py",
   "mimetype": "text/x-python",
   "name": "python",
   "nbconvert_exporter": "python",
   "pygments_lexer": "ipython3",
   "version": "3.10.7"
  }
 },
 "nbformat": 4,
 "nbformat_minor": 5
}
