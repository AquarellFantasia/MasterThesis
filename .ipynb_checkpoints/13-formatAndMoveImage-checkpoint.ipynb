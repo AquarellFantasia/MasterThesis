{
 "cells": [
  {
   "cell_type": "code",
   "execution_count": 1,
   "id": "5b947b53",
   "metadata": {},
   "outputs": [
    {
     "name": "stderr",
     "output_type": "stream",
     "text": [
      "/zhome/ab/7/153983/project/venv/lib/python3.10/site-packages/tqdm/auto.py:22: TqdmWarning: IProgress not found. Please update jupyter and ipywidgets. See https://ipywidgets.readthedocs.io/en/stable/user_install.html\n",
      "  from .autonotebook import tqdm as notebook_tqdm\n"
     ]
    }
   ],
   "source": [
    "# notebook last tested with abtem version 1.0.0beta32\n",
    "%matplotlib inline\n",
    "import matplotlib.pyplot as plt\n",
    "import matplotlib.image as mimg\n",
    "\n",
    "import cv2\n",
    "import random\n",
    "\n",
    "import numpy as np\n",
    "import numpy.ma as ma\n",
    "\n",
    "import os\n",
    "\n",
    "from scipy import constants\n",
    "from scipy import misc\n",
    "from scipy.ndimage import gaussian_filter\n",
    "\n",
    "from abtem import __version__\n",
    "from abtem import *\n",
    "\n",
    "from ase.io import read\n",
    "from ase.cluster import wulff_construction\n",
    "from ase import Atoms\n",
    "import ase.data\n",
    "\n",
    "\n",
    "\n",
    "from PIL import Image\n",
    "from skimage import data\n",
    "from skimage import filters\n",
    "from skimage import exposure\n",
    "from skimage.filters import gaussian"
   ]
  },
  {
   "cell_type": "code",
   "execution_count": 2,
   "id": "df48ebe3",
   "metadata": {},
   "outputs": [],
   "source": [
    "# Function that creates a custom sized circle mask at given h,w\n",
    "def create_circular_mask(h, w, center=None, radius=None):\n",
    "    if center is None: # use the middle of the image\n",
    "        center = (int(w/2), int(h/2))\n",
    "    if radius is None: # use the smallest distance between the center and image walls\n",
    "        radius = min(center[0], center[1], w-center[0], h-center[1])\n",
    "\n",
    "    Y, X = np.ogrid[:h, :w]\n",
    "    dist_from_center = np.sqrt((Y - center[0])**2 + (X-center[1])**2)\n",
    "\n",
    "    mask = dist_from_center <= radius\n",
    "    return mask"
   ]
  },
  {
   "cell_type": "code",
   "execution_count": 3,
   "id": "21ceb406",
   "metadata": {},
   "outputs": [],
   "source": [
    "def apply_mask(path, img, output_folder):\n",
    "    image = Image.open(\"{}/{}\".format(path,img))\n",
    "    image_arr = np.array(image)\n",
    "\n",
    "    if image_arr.shape[-1] == 4:\n",
    "        image_arr = image_arr[:,:,:-1]\n",
    "\n",
    "    image_arr = image_arr.astype(float)\n",
    "    image_arr /= 255\n",
    "\n",
    "    if len(image_arr.shape) == 3:\n",
    "        weights = np.array([1, 1, 1])\n",
    "        image_arr = np.dot(image_arr, weights)\n",
    "\n",
    "    image_center = (300,400)\n",
    "    image_center_arr = np.array(image_center)\n",
    "    inner_mask = create_circular_mask(600 ,800 ,\n",
    "                                      center = image_center_arr, radius = 100)\n",
    "    visible_mask = create_circular_mask(600 ,800 ,\n",
    "                                      center = image_center_arr, radius = 250)\n",
    "    visible_mask = np.logical_xor(visible_mask, inner_mask)\n",
    "    # Apply mask and return \n",
    "    \n",
    "    return ma.masked_array(image_arr, ~visible_mask)\n",
    "   "
   ]
  },
  {
   "cell_type": "code",
   "execution_count": 6,
   "id": "f9e495ee",
   "metadata": {},
   "outputs": [],
   "source": [
    "l = os.listdir('Database')\n",
    "for i in range(10):\n",
    "    "
   ]
  },
  {
   "cell_type": "code",
   "execution_count": 35,
   "id": "bf2bcd2d",
   "metadata": {},
   "outputs": [],
   "source": [
    "euler = l[0].split(\"_\")\n",
    "phi1 = float(euler[1])\n",
    "PHI  = float(euler[2])\n",
    "phi2 = float(euler[3][:-4])"
   ]
  },
  {
   "cell_type": "code",
   "execution_count": 38,
   "id": "743d9355",
   "metadata": {},
   "outputs": [
    {
     "data": {
      "text/plain": [
       "5.3"
      ]
     },
     "execution_count": 38,
     "metadata": {},
     "output_type": "execute_result"
    }
   ],
   "source": [
    "phi1"
   ]
  },
  {
   "cell_type": "code",
   "execution_count": null,
   "id": "f826beb9",
   "metadata": {},
   "outputs": [],
   "source": []
  }
 ],
 "metadata": {
  "kernelspec": {
   "display_name": "Python 3 (ipykernel)",
   "language": "python",
   "name": "python3"
  },
  "language_info": {
   "codemirror_mode": {
    "name": "ipython",
    "version": 3
   },
   "file_extension": ".py",
   "mimetype": "text/x-python",
   "name": "python",
   "nbconvert_exporter": "python",
   "pygments_lexer": "ipython3",
   "version": "3.10.7"
  }
 },
 "nbformat": 4,
 "nbformat_minor": 5
}
