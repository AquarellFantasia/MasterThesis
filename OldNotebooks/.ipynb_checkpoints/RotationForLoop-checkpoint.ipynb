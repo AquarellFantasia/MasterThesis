{
 "cells": [
  {
   "cell_type": "code",
   "execution_count": null,
   "metadata": {
    "pycharm": {
     "is_executing": false
    }
   },
   "outputs": [
    {
     "name": "stderr",
     "output_type": "stream",
     "text": [
      "/zhome/ab/7/153983/project/venv/lib/python3.10/site-packages/tqdm/auto.py:22: TqdmWarning: IProgress not found. Please update jupyter and ipywidgets. See https://ipywidgets.readthedocs.io/en/stable/user_install.html\n",
      "  from .autonotebook import tqdm as notebook_tqdm\n"
     ]
    }
   ],
   "source": [
    "# notebook last tested with abtem version 1.0.0beta32\n",
    "%matplotlib inline\n",
    "\n",
    "from abtem import __version__\n",
    "print('current version:', __version__)\n",
    "\n",
    "from ase.io import read\n",
    "from ase.cluster import wulff_construction\n",
    "from ase import Atoms\n",
    "import ase.data\n",
    "import matplotlib.pyplot as plt\n",
    "from scipy import constants\n",
    "from abtem import *\n",
    "import numpy as np"
   ]
  },
  {
   "cell_type": "code",
   "execution_count": 2,
   "metadata": {},
   "outputs": [],
   "source": [
    "rotations = [[127.6, 51.5, 231.8],\n",
    "             [140.1, 50.4, 225  ],\n",
    "             [140.4, 49.8, 224,8],\n",
    "             [243,   52,   127.6]]"
   ]
  },
  {
   "cell_type": "code",
   "execution_count": 7,
   "metadata": {},
   "outputs": [
    {
     "name": "stdout",
     "output_type": "stream",
     "text": [
      "{'Au': 0.0680474303682167}\n"
     ]
    },
    {
     "name": "stderr",
     "output_type": "stream",
     "text": [
      "Multislice: 100%|██████████| 160/160 [00:04<00:00, 32.89it/s]\n"
     ]
    },
    {
     "name": "stdout",
     "output_type": "stream",
     "text": [
      "CPU times: user 2.44 s, sys: 2.48 s, total: 4.92 s\n",
      "Wall time: 4.9 s\n"
     ]
    },
    {
     "name": "stderr",
     "output_type": "stream",
     "text": [
      "Multislice: 100%|██████████| 160/160 [00:06<00:00, 23.71it/s]\n"
     ]
    },
    {
     "name": "stdout",
     "output_type": "stream",
     "text": [
      "CPU times: user 3.36 s, sys: 3.44 s, total: 6.8 s\n",
      "Wall time: 6.77 s\n"
     ]
    },
    {
     "name": "stderr",
     "output_type": "stream",
     "text": [
      "Multislice: 100%|██████████| 160/160 [00:04<00:00, 34.51it/s]\n"
     ]
    },
    {
     "name": "stdout",
     "output_type": "stream",
     "text": [
      "CPU times: user 2.46 s, sys: 2.21 s, total: 4.67 s\n",
      "Wall time: 4.66 s\n"
     ]
    },
    {
     "name": "stderr",
     "output_type": "stream",
     "text": [
      "Multislice: 100%|██████████| 160/160 [00:06<00:00, 23.92it/s]\n"
     ]
    },
    {
     "name": "stdout",
     "output_type": "stream",
     "text": [
      "CPU times: user 3.37 s, sys: 3.36 s, total: 6.73 s\n",
      "Wall time: 6.71 s\n"
     ]
    },
    {
     "name": "stderr",
     "output_type": "stream",
     "text": [
      "Multislice: 100%|██████████| 160/160 [00:04<00:00, 34.00it/s]\n"
     ]
    },
    {
     "name": "stdout",
     "output_type": "stream",
     "text": [
      "CPU times: user 2.39 s, sys: 2.36 s, total: 4.75 s\n",
      "Wall time: 4.74 s\n"
     ]
    },
    {
     "name": "stderr",
     "output_type": "stream",
     "text": [
      "Multislice: 100%|██████████| 160/160 [00:06<00:00, 23.74it/s]\n"
     ]
    },
    {
     "name": "stdout",
     "output_type": "stream",
     "text": [
      "CPU times: user 3.41 s, sys: 3.38 s, total: 6.79 s\n",
      "Wall time: 6.76 s\n"
     ]
    },
    {
     "name": "stderr",
     "output_type": "stream",
     "text": [
      "Multislice: 100%|██████████| 160/160 [00:04<00:00, 33.44it/s]\n"
     ]
    },
    {
     "name": "stdout",
     "output_type": "stream",
     "text": [
      "CPU times: user 2.48 s, sys: 2.35 s, total: 4.82 s\n",
      "Wall time: 4.81 s\n"
     ]
    },
    {
     "name": "stderr",
     "output_type": "stream",
     "text": [
      "Multislice: 100%|██████████| 160/160 [00:06<00:00, 23.85it/s]\n"
     ]
    },
    {
     "name": "stdout",
     "output_type": "stream",
     "text": [
      "CPU times: user 3.37 s, sys: 3.39 s, total: 6.76 s\n",
      "Wall time: 6.74 s\n"
     ]
    },
    {
     "name": "stderr",
     "output_type": "stream",
     "text": [
      "Multislice: 100%|██████████| 160/160 [00:04<00:00, 33.53it/s]\n"
     ]
    },
    {
     "name": "stdout",
     "output_type": "stream",
     "text": [
      "CPU times: user 2.43 s, sys: 2.38 s, total: 4.81 s\n",
      "Wall time: 4.79 s\n"
     ]
    },
    {
     "name": "stderr",
     "output_type": "stream",
     "text": [
      "Multislice: 100%|██████████| 160/160 [00:06<00:00, 23.74it/s]\n"
     ]
    },
    {
     "name": "stdout",
     "output_type": "stream",
     "text": [
      "CPU times: user 3.35 s, sys: 3.45 s, total: 6.79 s\n",
      "Wall time: 6.76 s\n",
      "{'Au': 0.0680474303682167}\n"
     ]
    },
    {
     "name": "stderr",
     "output_type": "stream",
     "text": [
      "Multislice: 100%|██████████| 160/160 [00:04<00:00, 35.59it/s]\n"
     ]
    },
    {
     "name": "stdout",
     "output_type": "stream",
     "text": [
      "CPU times: user 2.3 s, sys: 2.25 s, total: 4.55 s\n",
      "Wall time: 4.53 s\n"
     ]
    },
    {
     "name": "stderr",
     "output_type": "stream",
     "text": [
      "Multislice: 100%|██████████| 160/160 [00:06<00:00, 23.93it/s]\n"
     ]
    },
    {
     "name": "stdout",
     "output_type": "stream",
     "text": [
      "CPU times: user 3.42 s, sys: 3.32 s, total: 6.74 s\n",
      "Wall time: 6.71 s\n"
     ]
    },
    {
     "name": "stderr",
     "output_type": "stream",
     "text": [
      "Multislice: 100%|██████████| 160/160 [00:04<00:00, 32.65it/s]\n"
     ]
    },
    {
     "name": "stdout",
     "output_type": "stream",
     "text": [
      "CPU times: user 2.48 s, sys: 2.46 s, total: 4.94 s\n",
      "Wall time: 4.92 s\n"
     ]
    },
    {
     "name": "stderr",
     "output_type": "stream",
     "text": [
      "Multislice: 100%|██████████| 160/160 [00:06<00:00, 23.94it/s]\n"
     ]
    },
    {
     "name": "stdout",
     "output_type": "stream",
     "text": [
      "CPU times: user 3.31 s, sys: 3.42 s, total: 6.73 s\n",
      "Wall time: 6.7 s\n"
     ]
    },
    {
     "name": "stderr",
     "output_type": "stream",
     "text": [
      "Multislice: 100%|██████████| 160/160 [00:05<00:00, 28.96it/s]\n"
     ]
    },
    {
     "name": "stdout",
     "output_type": "stream",
     "text": [
      "CPU times: user 2.79 s, sys: 2.79 s, total: 5.57 s\n",
      "Wall time: 5.55 s\n"
     ]
    },
    {
     "name": "stderr",
     "output_type": "stream",
     "text": [
      "Multislice: 100%|██████████| 160/160 [00:06<00:00, 24.45it/s]\n"
     ]
    },
    {
     "name": "stdout",
     "output_type": "stream",
     "text": [
      "CPU times: user 3.19 s, sys: 3.39 s, total: 6.58 s\n",
      "Wall time: 6.56 s\n"
     ]
    },
    {
     "name": "stderr",
     "output_type": "stream",
     "text": [
      "Multislice: 100%|██████████| 160/160 [00:05<00:00, 27.08it/s]\n"
     ]
    },
    {
     "name": "stdout",
     "output_type": "stream",
     "text": [
      "CPU times: user 2.96 s, sys: 2.99 s, total: 5.95 s\n",
      "Wall time: 5.93 s\n"
     ]
    },
    {
     "name": "stderr",
     "output_type": "stream",
     "text": [
      "Multislice: 100%|██████████| 160/160 [00:06<00:00, 25.83it/s]\n"
     ]
    },
    {
     "name": "stdout",
     "output_type": "stream",
     "text": [
      "CPU times: user 3.07 s, sys: 3.16 s, total: 6.23 s\n",
      "Wall time: 6.21 s\n"
     ]
    },
    {
     "name": "stderr",
     "output_type": "stream",
     "text": [
      "Multislice: 100%|██████████| 160/160 [00:06<00:00, 25.60it/s]\n"
     ]
    },
    {
     "name": "stdout",
     "output_type": "stream",
     "text": [
      "CPU times: user 3.12 s, sys: 3.17 s, total: 6.3 s\n",
      "Wall time: 6.27 s\n"
     ]
    },
    {
     "name": "stderr",
     "output_type": "stream",
     "text": [
      "Multislice: 100%|██████████| 160/160 [00:06<00:00, 24.91it/s]\n"
     ]
    },
    {
     "name": "stdout",
     "output_type": "stream",
     "text": [
      "CPU times: user 3.12 s, sys: 3.33 s, total: 6.45 s\n",
      "Wall time: 6.44 s\n",
      "{'Au': 0.0680474303682167}\n"
     ]
    },
    {
     "name": "stderr",
     "output_type": "stream",
     "text": [
      "Multislice: 100%|██████████| 161/161 [00:04<00:00, 35.38it/s]\n"
     ]
    },
    {
     "name": "stdout",
     "output_type": "stream",
     "text": [
      "CPU times: user 2.35 s, sys: 2.25 s, total: 4.6 s\n",
      "Wall time: 4.58 s\n"
     ]
    },
    {
     "name": "stderr",
     "output_type": "stream",
     "text": [
      "Multislice: 100%|██████████| 161/161 [00:06<00:00, 23.85it/s]\n"
     ]
    },
    {
     "name": "stdout",
     "output_type": "stream",
     "text": [
      "CPU times: user 3.34 s, sys: 3.46 s, total: 6.8 s\n",
      "Wall time: 6.77 s\n"
     ]
    },
    {
     "name": "stderr",
     "output_type": "stream",
     "text": [
      "Multislice: 100%|██████████| 161/161 [00:04<00:00, 33.36it/s]\n"
     ]
    },
    {
     "name": "stdout",
     "output_type": "stream",
     "text": [
      "CPU times: user 2.41 s, sys: 2.46 s, total: 4.87 s\n",
      "Wall time: 4.85 s\n"
     ]
    },
    {
     "name": "stderr",
     "output_type": "stream",
     "text": [
      "Multislice: 100%|██████████| 161/161 [00:06<00:00, 23.82it/s]\n"
     ]
    },
    {
     "name": "stdout",
     "output_type": "stream",
     "text": [
      "CPU times: user 3.38 s, sys: 3.43 s, total: 6.81 s\n",
      "Wall time: 6.78 s\n"
     ]
    },
    {
     "name": "stderr",
     "output_type": "stream",
     "text": [
      "Multislice: 100%|██████████| 161/161 [00:04<00:00, 33.51it/s]\n"
     ]
    },
    {
     "name": "stdout",
     "output_type": "stream",
     "text": [
      "CPU times: user 2.49 s, sys: 2.34 s, total: 4.84 s\n",
      "Wall time: 4.83 s\n"
     ]
    },
    {
     "name": "stderr",
     "output_type": "stream",
     "text": [
      "Multislice: 100%|██████████| 161/161 [00:06<00:00, 23.89it/s]\n"
     ]
    },
    {
     "name": "stdout",
     "output_type": "stream",
     "text": [
      "CPU times: user 3.5 s, sys: 3.29 s, total: 6.79 s\n",
      "Wall time: 6.76 s\n"
     ]
    },
    {
     "name": "stderr",
     "output_type": "stream",
     "text": [
      "Multislice: 100%|██████████| 161/161 [00:04<00:00, 35.09it/s]\n"
     ]
    },
    {
     "name": "stdout",
     "output_type": "stream",
     "text": [
      "CPU times: user 2.37 s, sys: 2.25 s, total: 4.62 s\n",
      "Wall time: 4.61 s\n"
     ]
    },
    {
     "name": "stderr",
     "output_type": "stream",
     "text": [
      "Multislice: 100%|██████████| 161/161 [00:06<00:00, 23.86it/s]\n"
     ]
    },
    {
     "name": "stdout",
     "output_type": "stream",
     "text": [
      "CPU times: user 3.29 s, sys: 3.51 s, total: 6.8 s\n",
      "Wall time: 6.77 s\n"
     ]
    },
    {
     "name": "stderr",
     "output_type": "stream",
     "text": [
      "Multislice: 100%|██████████| 161/161 [00:04<00:00, 33.59it/s]\n"
     ]
    },
    {
     "name": "stdout",
     "output_type": "stream",
     "text": [
      "CPU times: user 2.51 s, sys: 2.33 s, total: 4.84 s\n",
      "Wall time: 4.82 s\n"
     ]
    },
    {
     "name": "stderr",
     "output_type": "stream",
     "text": [
      "Multislice: 100%|██████████| 161/161 [00:06<00:00, 23.98it/s]\n"
     ]
    },
    {
     "name": "stdout",
     "output_type": "stream",
     "text": [
      "CPU times: user 3.34 s, sys: 3.42 s, total: 6.76 s\n",
      "Wall time: 6.74 s\n",
      "{'Au': 0.0680474303682167}\n"
     ]
    },
    {
     "name": "stderr",
     "output_type": "stream",
     "text": [
      "Multislice: 100%|██████████| 171/171 [00:05<00:00, 29.73it/s]\n"
     ]
    },
    {
     "name": "stdout",
     "output_type": "stream",
     "text": [
      "CPU times: user 2.97 s, sys: 2.82 s, total: 5.8 s\n",
      "Wall time: 5.77 s\n"
     ]
    },
    {
     "name": "stderr",
     "output_type": "stream",
     "text": [
      "Multislice: 100%|██████████| 171/171 [00:06<00:00, 24.65it/s]\n"
     ]
    },
    {
     "name": "stdout",
     "output_type": "stream",
     "text": [
      "CPU times: user 3.47 s, sys: 3.52 s, total: 6.99 s\n",
      "Wall time: 6.96 s\n"
     ]
    },
    {
     "name": "stderr",
     "output_type": "stream",
     "text": [
      "Multislice: 100%|██████████| 171/171 [00:06<00:00, 26.50it/s]\n"
     ]
    },
    {
     "name": "stdout",
     "output_type": "stream",
     "text": [
      "CPU times: user 3.22 s, sys: 3.26 s, total: 6.49 s\n",
      "Wall time: 6.47 s\n"
     ]
    },
    {
     "name": "stderr",
     "output_type": "stream",
     "text": [
      "Multislice: 100%|██████████| 171/171 [00:06<00:00, 27.35it/s]\n"
     ]
    },
    {
     "name": "stdout",
     "output_type": "stream",
     "text": [
      "CPU times: user 3.14 s, sys: 3.16 s, total: 6.3 s\n",
      "Wall time: 6.28 s\n"
     ]
    },
    {
     "name": "stderr",
     "output_type": "stream",
     "text": [
      "Multislice: 100%|██████████| 171/171 [00:06<00:00, 26.73it/s]\n"
     ]
    },
    {
     "name": "stdout",
     "output_type": "stream",
     "text": [
      "CPU times: user 3.2 s, sys: 3.23 s, total: 6.43 s\n",
      "Wall time: 6.41 s\n"
     ]
    },
    {
     "name": "stderr",
     "output_type": "stream",
     "text": [
      "Multislice: 100%|██████████| 171/171 [00:06<00:00, 27.05it/s]\n"
     ]
    },
    {
     "name": "stdout",
     "output_type": "stream",
     "text": [
      "CPU times: user 3.27 s, sys: 3.1 s, total: 6.38 s\n",
      "Wall time: 6.34 s\n"
     ]
    },
    {
     "name": "stderr",
     "output_type": "stream",
     "text": [
      "Multislice: 100%|██████████| 171/171 [00:06<00:00, 27.37it/s]\n"
     ]
    },
    {
     "name": "stdout",
     "output_type": "stream",
     "text": [
      "CPU times: user 3.17 s, sys: 3.12 s, total: 6.29 s\n",
      "Wall time: 6.26 s\n"
     ]
    },
    {
     "name": "stderr",
     "output_type": "stream",
     "text": [
      "Multislice: 100%|██████████| 171/171 [00:06<00:00, 26.57it/s]\n"
     ]
    },
    {
     "name": "stdout",
     "output_type": "stream",
     "text": [
      "CPU times: user 3.28 s, sys: 3.21 s, total: 6.49 s\n",
      "Wall time: 6.46 s\n"
     ]
    },
    {
     "name": "stderr",
     "output_type": "stream",
     "text": [
      "Multislice: 100%|██████████| 171/171 [00:06<00:00, 26.91it/s]\n"
     ]
    },
    {
     "name": "stdout",
     "output_type": "stream",
     "text": [
      "CPU times: user 3.21 s, sys: 3.18 s, total: 6.39 s\n",
      "Wall time: 6.37 s\n"
     ]
    },
    {
     "name": "stderr",
     "output_type": "stream",
     "text": [
      "Multislice: 100%|██████████| 171/171 [00:06<00:00, 27.13it/s]\n"
     ]
    },
    {
     "name": "stdout",
     "output_type": "stream",
     "text": [
      "CPU times: user 3.21 s, sys: 3.14 s, total: 6.35 s\n",
      "Wall time: 6.33 s\n"
     ]
    },
    {
     "data": {
      "text/plain": [
       "<Figure size 640x480 with 0 Axes>"
      ]
     },
     "metadata": {},
     "output_type": "display_data"
    }
   ],
   "source": [
    "for rotation in rotations: \n",
    "    \n",
    "    #Creating atoms\n",
    "    surfaces = [(1, 0, 0), (1, 1, 0), (1, 1, 1)] # Nanoparticle facets\n",
    "    esurf = [1.0, 1.1, 0.9] # Relative surface energies\n",
    "    size = 16000 # Target number of atoms\n",
    "    atoms = Atoms(wulff_construction('Au', surfaces, esurf, size, 'fcc', rounding='above'))\n",
    "    atoms.rotate(rotation[0], 'z', center='cop')\n",
    "    atoms.rotate(rotation[1], 'y', center='cop')\n",
    "    atoms.rotate(rotation[2], 'z', center='cop')\n",
    "    atoms.center(vacuum=5.)\n",
    "    atoms.center(vacuum=2., axis=2)\n",
    "    \n",
    "    # Setting gridpoint config\n",
    "    gridpoints = int(max(atoms.cell[0,0], atoms.cell[1,1]) / 0.05)\n",
    "    gridpoints = 4096\n",
    "    \n",
    "    #Generating images\n",
    "    angle = 2*4.5e-3\n",
    "    defocus = 40/np.sin(angle)\n",
    "    mass = ase.data.atomic_masses[ase.data.atomic_numbers['Au']]\n",
    "    TD = 165  # Kittel\n",
    "    T = 300\n",
    "    U_squared = (3 * constants.hbar**2 / (2 *  mass * ase.units._amu * constants.k * TD)\n",
    "                 * (1/4 + T / TD))\n",
    "    sigmas = {'Au': np.sqrt(U_squared) * 1e10} # standard deviations of thermal vibrations\n",
    "    print(sigmas)\n",
    "    num_configs = 10 # number of frozen phonon configurations\n",
    "\n",
    "    frozen_phonons = FrozenPhonons(atoms, num_configs=num_configs, sigmas=sigmas)\n",
    "\n",
    "    for i,config in enumerate(frozen_phonons):\n",
    "        potential = Potential(config, \n",
    "                              gpts=gridpoints, \n",
    "                              slice_thickness=0.5, \n",
    "                              device='gpu',\n",
    "                              #storage='cpu',\n",
    "                              precalculate=False,\n",
    "                              parametrization='kirkland', \n",
    "                              projection='infinite')\n",
    "\n",
    "        probe = Probe(sampling=potential.sampling,\n",
    "            device='gpu',\n",
    "            semiangle_cutoff=1000*angle,\n",
    "            extent=potential.extent,\n",
    "            defocus=defocus,\n",
    "            energy=30e3 # acceleration voltage in eVhttp://localhost:8080/notebooks/Kikuchi.ipynb#\n",
    "        )\n",
    "        positions = (45, 45)\n",
    "        %time exit_wave = probe.multislice(positions, potential)\n",
    "        cbed_diffraction_pattern = exit_wave.diffraction_pattern(block_zeroth_order=0)\n",
    "        if (i==0):\n",
    "            summedImage = cbed_diffraction_pattern.array\n",
    "        else:\n",
    "            summedImage += cbed_diffraction_pattern.array\n",
    "\n",
    "    cbed_diffraction_pattern.array[:] = summedImage/num_configs\n",
    "    exit_wave.array.shape\n",
    "\n",
    "    # Deleting probe\n",
    "    energy = probe.energy\n",
    "    del probe\n",
    "    \n",
    "    # Switching back to CPU\n",
    "    if True:\n",
    "        exit_wave._array = exit_wave._array.get()\n",
    "        exit_wave._device = 'cpu'\n",
    "\n",
    "    plt.savefig('image-{}.png'.format(\"{}-{}-{}\".format(rotation[0], rotation[1], rotation[2])), bbox_inches='tight')"
   ]
  },
  {
   "cell_type": "code",
   "execution_count": 11,
   "metadata": {},
   "outputs": [
    {
     "name": "stdout",
     "output_type": "stream",
     "text": [
      "Requirement already satisfied: pillow in ./venv/lib/python3.10/site-packages (9.2.0)\n",
      "\u001b[33mWARNING: You are using pip version 21.1; however, version 22.3.1 is available.\n",
      "You should consider upgrading via the '/zhome/ab/7/153983/project/venv/bin/python3 -m pip install --upgrade pip' command.\u001b[0m\n"
     ]
    }
   ],
   "source": [
    "!pip install pillow"
   ]
  },
  {
   "cell_type": "code",
   "execution_count": 12,
   "metadata": {},
   "outputs": [
    {
     "name": "stdout",
     "output_type": "stream",
     "text": [
      "Kikuchi.ipynb\t       image-127.6-51.5-231.8.png  kikuchiProbe.ipynb\r\n",
      "KikuchiOriginal.ipynb  image-140.1-50.4-225.png    spots_phonons.png\r\n",
      "Probe.ipynb\t       image-140.4-49.8-224.png    venv\r\n",
      "RotationForLoop.ipynb  image-243-52-127.6.png\r\n"
     ]
    }
   ],
   "source": [
    "!ls\n"
   ]
  },
  {
   "cell_type": "code",
   "execution_count": 13,
   "metadata": {},
   "outputs": [
    {
     "name": "stdout",
     "output_type": "stream",
     "text": [
      "START /usr/bin/eog \"/tmp/tmpcm5j4u7g.PNG\"\n"
     ]
    },
    {
     "name": "stderr",
     "output_type": "stream",
     "text": [
      "\n",
      "(eog:31402): Gtk-WARNING **: 14:44:14.002: cannot open display: \n"
     ]
    }
   ],
   "source": [
    "from PIL import Image\n",
    "\n",
    "#read the image\n",
    "im = Image.open(\"image-127.6-51.5-231.8.png\")\n",
    "\n",
    "#show image\n",
    "im.show()"
   ]
  }
 ],
 "metadata": {
  "kernelspec": {
   "display_name": "Python 3 (ipykernel)",
   "language": "python",
   "name": "python3"
  },
  "language_info": {
   "codemirror_mode": {
    "name": "ipython",
    "version": 3
   },
   "file_extension": ".py",
   "mimetype": "text/x-python",
   "name": "python",
   "nbconvert_exporter": "python",
   "pygments_lexer": "ipython3",
   "version": "3.10.7"
  },
  "pycharm": {
   "stem_cell": {
    "cell_type": "raw",
    "metadata": {
     "collapsed": false
    },
    "source": []
   }
  }
 },
 "nbformat": 4,
 "nbformat_minor": 4
}
