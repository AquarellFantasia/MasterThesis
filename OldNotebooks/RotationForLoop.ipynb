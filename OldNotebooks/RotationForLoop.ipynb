{
 "cells": [
  {
   "cell_type": "code",
   "execution_count": 1,
   "metadata": {
    "pycharm": {
     "is_executing": false
    }
   },
   "outputs": [
    {
     "name": "stderr",
     "output_type": "stream",
     "text": [
      "/zhome/ab/7/153983/project/venv/lib/python3.10/site-packages/tqdm/auto.py:22: TqdmWarning: IProgress not found. Please update jupyter and ipywidgets. See https://ipywidgets.readthedocs.io/en/stable/user_install.html\n",
      "  from .autonotebook import tqdm as notebook_tqdm\n"
     ]
    },
    {
     "name": "stdout",
     "output_type": "stream",
     "text": [
      "current version: 1.0.0beta32\n"
     ]
    }
   ],
   "source": [
    "# notebook last tested with abtem version 1.0.0beta32\n",
    "%matplotlib inline\n",
    "\n",
    "from abtem import __version__\n",
    "print('current version:', __version__)\n",
    "\n",
    "from ase.io import read\n",
    "from ase.cluster import wulff_construction\n",
    "from ase import Atoms\n",
    "import ase.data\n",
    "import matplotlib.pyplot as plt\n",
    "from scipy import constants\n",
    "from abtem import *\n",
    "import numpy as np"
   ]
  },
  {
   "cell_type": "code",
   "execution_count": 2,
   "metadata": {},
   "outputs": [],
   "source": [
    "rotations = [[127.6, 51.5, 231.8],\n",
    "             [140.1, 50.4, 225  ],\n",
    "             [140.4, 49.8, 224.8],\n",
    "             [243,   52,   127.6]]"
   ]
  },
  {
   "cell_type": "code",
   "execution_count": 3,
   "metadata": {},
   "outputs": [],
   "source": [
    "center_type = 'com' "
   ]
  },
  {
   "cell_type": "code",
   "execution_count": 4,
   "metadata": {},
   "outputs": [
    {
     "name": "stdout",
     "output_type": "stream",
     "text": [
      "{'Au': 0.0680474303682167}\n"
     ]
    },
    {
     "name": "stderr",
     "output_type": "stream",
     "text": [
      "Multislice: 100%|█████████████████████████████████████████████████████████████████████████████████████████████████████████| 160/160 [00:05<00:00, 27.22it/s]\n"
     ]
    },
    {
     "name": "stdout",
     "output_type": "stream",
     "text": [
      "CPU times: user 3.18 s, sys: 3.23 s, total: 6.41 s\n",
      "Wall time: 6.47 s\n"
     ]
    },
    {
     "name": "stderr",
     "output_type": "stream",
     "text": [
      "Multislice: 100%|█████████████████████████████████████████████████████████████████████████████████████████████████████████| 160/160 [00:05<00:00, 31.30it/s]\n"
     ]
    },
    {
     "name": "stdout",
     "output_type": "stream",
     "text": [
      "CPU times: user 2.52 s, sys: 2.63 s, total: 5.14 s\n",
      "Wall time: 5.12 s\n"
     ]
    },
    {
     "name": "stderr",
     "output_type": "stream",
     "text": [
      "Multislice: 100%|█████████████████████████████████████████████████████████████████████████████████████████████████████████| 160/160 [00:02<00:00, 57.44it/s]\n"
     ]
    },
    {
     "name": "stdout",
     "output_type": "stream",
     "text": [
      "CPU times: user 1.52 s, sys: 1.29 s, total: 2.82 s\n",
      "Wall time: 2.81 s\n"
     ]
    },
    {
     "name": "stderr",
     "output_type": "stream",
     "text": [
      "Multislice: 100%|█████████████████████████████████████████████████████████████████████████████████████████████████████████| 160/160 [00:05<00:00, 27.51it/s]\n"
     ]
    },
    {
     "name": "stdout",
     "output_type": "stream",
     "text": [
      "CPU times: user 2.82 s, sys: 3.03 s, total: 5.85 s\n",
      "Wall time: 5.83 s\n"
     ]
    },
    {
     "name": "stderr",
     "output_type": "stream",
     "text": [
      "Multislice: 100%|█████████████████████████████████████████████████████████████████████████████████████████████████████████| 160/160 [00:06<00:00, 26.08it/s]\n"
     ]
    },
    {
     "name": "stdout",
     "output_type": "stream",
     "text": [
      "CPU times: user 3.1 s, sys: 3.08 s, total: 6.18 s\n",
      "Wall time: 6.16 s\n"
     ]
    },
    {
     "name": "stderr",
     "output_type": "stream",
     "text": [
      "Multislice: 100%|█████████████████████████████████████████████████████████████████████████████████████████████████████████| 160/160 [00:05<00:00, 27.55it/s]\n"
     ]
    },
    {
     "name": "stdout",
     "output_type": "stream",
     "text": [
      "CPU times: user 2.86 s, sys: 2.98 s, total: 5.85 s\n",
      "Wall time: 5.83 s\n"
     ]
    },
    {
     "name": "stderr",
     "output_type": "stream",
     "text": [
      "Multislice: 100%|█████████████████████████████████████████████████████████████████████████████████████████████████████████| 160/160 [00:05<00:00, 27.35it/s]\n"
     ]
    },
    {
     "name": "stdout",
     "output_type": "stream",
     "text": [
      "CPU times: user 2.92 s, sys: 2.98 s, total: 5.89 s\n",
      "Wall time: 5.87 s\n"
     ]
    },
    {
     "name": "stderr",
     "output_type": "stream",
     "text": [
      "Multislice: 100%|█████████████████████████████████████████████████████████████████████████████████████████████████████████| 160/160 [00:05<00:00, 27.62it/s]\n"
     ]
    },
    {
     "name": "stdout",
     "output_type": "stream",
     "text": [
      "CPU times: user 2.85 s, sys: 2.98 s, total: 5.84 s\n",
      "Wall time: 5.82 s\n"
     ]
    },
    {
     "name": "stderr",
     "output_type": "stream",
     "text": [
      "Multislice: 100%|█████████████████████████████████████████████████████████████████████████████████████████████████████████| 160/160 [00:05<00:00, 27.66it/s]\n"
     ]
    },
    {
     "name": "stdout",
     "output_type": "stream",
     "text": [
      "CPU times: user 2.92 s, sys: 2.9 s, total: 5.83 s\n",
      "Wall time: 5.81 s\n"
     ]
    },
    {
     "name": "stderr",
     "output_type": "stream",
     "text": [
      "Multislice: 100%|█████████████████████████████████████████████████████████████████████████████████████████████████████████| 160/160 [00:05<00:00, 27.70it/s]\n"
     ]
    },
    {
     "name": "stdout",
     "output_type": "stream",
     "text": [
      "CPU times: user 2.88 s, sys: 2.94 s, total: 5.83 s\n",
      "Wall time: 5.8 s\n",
      "{'Au': 0.0680474303682167}\n"
     ]
    },
    {
     "name": "stderr",
     "output_type": "stream",
     "text": [
      "Multislice: 100%|█████████████████████████████████████████████████████████████████████████████████████████████████████████| 160/160 [00:05<00:00, 27.74it/s]\n"
     ]
    },
    {
     "name": "stdout",
     "output_type": "stream",
     "text": [
      "CPU times: user 2.91 s, sys: 2.91 s, total: 5.82 s\n",
      "Wall time: 5.81 s\n"
     ]
    },
    {
     "name": "stderr",
     "output_type": "stream",
     "text": [
      "Multislice: 100%|█████████████████████████████████████████████████████████████████████████████████████████████████████████| 160/160 [00:05<00:00, 27.37it/s]\n"
     ]
    },
    {
     "name": "stdout",
     "output_type": "stream",
     "text": [
      "CPU times: user 2.95 s, sys: 2.94 s, total: 5.89 s\n",
      "Wall time: 5.87 s\n"
     ]
    },
    {
     "name": "stderr",
     "output_type": "stream",
     "text": [
      "Multislice: 100%|█████████████████████████████████████████████████████████████████████████████████████████████████████████| 160/160 [00:05<00:00, 27.40it/s]\n"
     ]
    },
    {
     "name": "stdout",
     "output_type": "stream",
     "text": [
      "CPU times: user 2.9 s, sys: 2.98 s, total: 5.88 s\n",
      "Wall time: 5.86 s\n"
     ]
    },
    {
     "name": "stderr",
     "output_type": "stream",
     "text": [
      "Multislice: 100%|█████████████████████████████████████████████████████████████████████████████████████████████████████████| 160/160 [00:04<00:00, 33.54it/s]\n"
     ]
    },
    {
     "name": "stdout",
     "output_type": "stream",
     "text": [
      "CPU times: user 2.43 s, sys: 2.37 s, total: 4.81 s\n",
      "Wall time: 4.79 s\n"
     ]
    },
    {
     "name": "stderr",
     "output_type": "stream",
     "text": [
      "Multislice: 100%|█████████████████████████████████████████████████████████████████████████████████████████████████████████| 160/160 [00:02<00:00, 53.46it/s]\n"
     ]
    },
    {
     "name": "stdout",
     "output_type": "stream",
     "text": [
      "CPU times: user 1.63 s, sys: 1.39 s, total: 3.01 s\n",
      "Wall time: 3 s\n"
     ]
    },
    {
     "name": "stderr",
     "output_type": "stream",
     "text": [
      "Multislice: 100%|█████████████████████████████████████████████████████████████████████████████████████████████████████████| 160/160 [00:05<00:00, 27.51it/s]\n"
     ]
    },
    {
     "name": "stdout",
     "output_type": "stream",
     "text": [
      "CPU times: user 2.97 s, sys: 2.89 s, total: 5.86 s\n",
      "Wall time: 5.83 s\n"
     ]
    },
    {
     "name": "stderr",
     "output_type": "stream",
     "text": [
      "Multislice: 100%|█████████████████████████████████████████████████████████████████████████████████████████████████████████| 160/160 [00:05<00:00, 27.53it/s]\n"
     ]
    },
    {
     "name": "stdout",
     "output_type": "stream",
     "text": [
      "CPU times: user 2.87 s, sys: 2.99 s, total: 5.86 s\n",
      "Wall time: 5.83 s\n"
     ]
    },
    {
     "name": "stderr",
     "output_type": "stream",
     "text": [
      "Multislice: 100%|█████████████████████████████████████████████████████████████████████████████████████████████████████████| 160/160 [00:05<00:00, 27.39it/s]\n"
     ]
    },
    {
     "name": "stdout",
     "output_type": "stream",
     "text": [
      "CPU times: user 2.96 s, sys: 2.93 s, total: 5.89 s\n",
      "Wall time: 5.86 s\n"
     ]
    },
    {
     "name": "stderr",
     "output_type": "stream",
     "text": [
      "Multislice: 100%|█████████████████████████████████████████████████████████████████████████████████████████████████████████| 160/160 [00:05<00:00, 27.43it/s]\n"
     ]
    },
    {
     "name": "stdout",
     "output_type": "stream",
     "text": [
      "CPU times: user 2.89 s, sys: 2.99 s, total: 5.88 s\n",
      "Wall time: 5.86 s\n"
     ]
    },
    {
     "name": "stderr",
     "output_type": "stream",
     "text": [
      "Multislice: 100%|█████████████████████████████████████████████████████████████████████████████████████████████████████████| 160/160 [00:05<00:00, 27.51it/s]\n"
     ]
    },
    {
     "name": "stdout",
     "output_type": "stream",
     "text": [
      "CPU times: user 2.84 s, sys: 3.02 s, total: 5.87 s\n",
      "Wall time: 5.84 s\n",
      "{'Au': 0.0680474303682167}\n"
     ]
    },
    {
     "name": "stderr",
     "output_type": "stream",
     "text": [
      "Multislice: 100%|█████████████████████████████████████████████████████████████████████████████████████████████████████████| 161/161 [00:05<00:00, 27.31it/s]\n"
     ]
    },
    {
     "name": "stdout",
     "output_type": "stream",
     "text": [
      "CPU times: user 2.95 s, sys: 3.01 s, total: 5.96 s\n",
      "Wall time: 5.93 s\n"
     ]
    },
    {
     "name": "stderr",
     "output_type": "stream",
     "text": [
      "Multislice: 100%|█████████████████████████████████████████████████████████████████████████████████████████████████████████| 161/161 [00:05<00:00, 27.45it/s]\n"
     ]
    },
    {
     "name": "stdout",
     "output_type": "stream",
     "text": [
      "CPU times: user 2.9 s, sys: 3.02 s, total: 5.92 s\n",
      "Wall time: 5.89 s\n"
     ]
    },
    {
     "name": "stderr",
     "output_type": "stream",
     "text": [
      "Multislice: 100%|█████████████████████████████████████████████████████████████████████████████████████████████████████████| 161/161 [00:05<00:00, 27.47it/s]\n"
     ]
    },
    {
     "name": "stdout",
     "output_type": "stream",
     "text": [
      "CPU times: user 2.84 s, sys: 3.06 s, total: 5.9 s\n",
      "Wall time: 5.88 s\n"
     ]
    },
    {
     "name": "stderr",
     "output_type": "stream",
     "text": [
      "Multislice: 100%|█████████████████████████████████████████████████████████████████████████████████████████████████████████| 161/161 [00:05<00:00, 27.60it/s]\n"
     ]
    },
    {
     "name": "stdout",
     "output_type": "stream",
     "text": [
      "CPU times: user 2.93 s, sys: 2.94 s, total: 5.88 s\n",
      "Wall time: 5.85 s\n"
     ]
    },
    {
     "name": "stderr",
     "output_type": "stream",
     "text": [
      "Multislice: 100%|█████████████████████████████████████████████████████████████████████████████████████████████████████████| 161/161 [00:05<00:00, 29.95it/s]\n"
     ]
    },
    {
     "name": "stdout",
     "output_type": "stream",
     "text": [
      "CPU times: user 2.7 s, sys: 2.72 s, total: 5.42 s\n",
      "Wall time: 5.4 s\n"
     ]
    },
    {
     "name": "stderr",
     "output_type": "stream",
     "text": [
      "Multislice: 100%|█████████████████████████████████████████████████████████████████████████████████████████████████████████| 161/161 [00:03<00:00, 46.53it/s]\n"
     ]
    },
    {
     "name": "stdout",
     "output_type": "stream",
     "text": [
      "CPU times: user 1.77 s, sys: 1.73 s, total: 3.5 s\n",
      "Wall time: 3.48 s\n"
     ]
    },
    {
     "name": "stderr",
     "output_type": "stream",
     "text": [
      "Multislice: 100%|█████████████████████████████████████████████████████████████████████████████████████████████████████████| 161/161 [00:05<00:00, 27.64it/s]\n"
     ]
    },
    {
     "name": "stdout",
     "output_type": "stream",
     "text": [
      "CPU times: user 2.89 s, sys: 2.97 s, total: 5.86 s\n",
      "Wall time: 5.84 s\n"
     ]
    },
    {
     "name": "stderr",
     "output_type": "stream",
     "text": [
      "Multislice: 100%|█████████████████████████████████████████████████████████████████████████████████████████████████████████| 161/161 [00:05<00:00, 27.20it/s]\n"
     ]
    },
    {
     "name": "stdout",
     "output_type": "stream",
     "text": [
      "CPU times: user 2.94 s, sys: 3.02 s, total: 5.97 s\n",
      "Wall time: 5.94 s\n"
     ]
    },
    {
     "name": "stderr",
     "output_type": "stream",
     "text": [
      "Multislice: 100%|█████████████████████████████████████████████████████████████████████████████████████████████████████████| 161/161 [00:05<00:00, 27.33it/s]\n"
     ]
    },
    {
     "name": "stdout",
     "output_type": "stream",
     "text": [
      "CPU times: user 2.92 s, sys: 3.01 s, total: 5.93 s\n",
      "Wall time: 5.91 s\n"
     ]
    },
    {
     "name": "stderr",
     "output_type": "stream",
     "text": [
      "Multislice: 100%|█████████████████████████████████████████████████████████████████████████████████████████████████████████| 161/161 [00:05<00:00, 27.28it/s]\n"
     ]
    },
    {
     "name": "stdout",
     "output_type": "stream",
     "text": [
      "CPU times: user 3 s, sys: 2.94 s, total: 5.94 s\n",
      "Wall time: 5.92 s\n",
      "{'Au': 0.0680474303682167}\n"
     ]
    },
    {
     "name": "stderr",
     "output_type": "stream",
     "text": [
      "Multislice: 100%|█████████████████████████████████████████████████████████████████████████████████████████████████████████| 171/171 [00:06<00:00, 27.43it/s]\n"
     ]
    },
    {
     "name": "stdout",
     "output_type": "stream",
     "text": [
      "CPU times: user 3.12 s, sys: 3.17 s, total: 6.29 s\n",
      "Wall time: 6.27 s\n"
     ]
    },
    {
     "name": "stderr",
     "output_type": "stream",
     "text": [
      "Multislice: 100%|██████████| 171/171 [00:06<00:00, 27.06it/s]\n"
     ]
    },
    {
     "name": "stdout",
     "output_type": "stream",
     "text": [
      "CPU times: user 3.07 s, sys: 3.3 s, total: 6.37 s\n",
      "Wall time: 6.34 s\n"
     ]
    },
    {
     "name": "stderr",
     "output_type": "stream",
     "text": [
      "Multislice: 100%|██████████| 171/171 [00:06<00:00, 27.07it/s]\n"
     ]
    },
    {
     "name": "stdout",
     "output_type": "stream",
     "text": [
      "CPU times: user 3.14 s, sys: 3.22 s, total: 6.37 s\n",
      "Wall time: 6.34 s\n"
     ]
    },
    {
     "name": "stderr",
     "output_type": "stream",
     "text": [
      "Multislice: 100%|██████████| 171/171 [00:06<00:00, 27.11it/s]\n"
     ]
    },
    {
     "name": "stdout",
     "output_type": "stream",
     "text": [
      "CPU times: user 3.06 s, sys: 3.3 s, total: 6.35 s\n",
      "Wall time: 6.33 s\n"
     ]
    },
    {
     "name": "stderr",
     "output_type": "stream",
     "text": [
      "Multislice: 100%|██████████| 171/171 [00:06<00:00, 27.10it/s]\n"
     ]
    },
    {
     "name": "stdout",
     "output_type": "stream",
     "text": [
      "CPU times: user 3.13 s, sys: 3.22 s, total: 6.35 s\n",
      "Wall time: 6.32 s\n"
     ]
    },
    {
     "name": "stderr",
     "output_type": "stream",
     "text": [
      "Multislice: 100%|██████████| 171/171 [00:05<00:00, 30.52it/s]\n"
     ]
    },
    {
     "name": "stdout",
     "output_type": "stream",
     "text": [
      "CPU times: user 2.82 s, sys: 2.84 s, total: 5.65 s\n",
      "Wall time: 5.63 s\n"
     ]
    },
    {
     "name": "stderr",
     "output_type": "stream",
     "text": [
      "Multislice: 100%|██████████| 171/171 [00:05<00:00, 29.33it/s]\n"
     ]
    },
    {
     "name": "stdout",
     "output_type": "stream",
     "text": [
      "CPU times: user 2.93 s, sys: 2.95 s, total: 5.88 s\n",
      "Wall time: 5.85 s\n"
     ]
    },
    {
     "name": "stderr",
     "output_type": "stream",
     "text": [
      "Multislice: 100%|██████████| 171/171 [00:06<00:00, 27.08it/s]\n"
     ]
    },
    {
     "name": "stdout",
     "output_type": "stream",
     "text": [
      "CPU times: user 3.12 s, sys: 3.24 s, total: 6.36 s\n",
      "Wall time: 6.34 s\n"
     ]
    },
    {
     "name": "stderr",
     "output_type": "stream",
     "text": [
      "Multislice: 100%|██████████| 171/171 [00:06<00:00, 27.17it/s]\n"
     ]
    },
    {
     "name": "stdout",
     "output_type": "stream",
     "text": [
      "CPU times: user 3.09 s, sys: 3.25 s, total: 6.34 s\n",
      "Wall time: 6.32 s\n"
     ]
    },
    {
     "name": "stderr",
     "output_type": "stream",
     "text": [
      "Multislice: 100%|██████████| 171/171 [00:06<00:00, 27.05it/s]\n"
     ]
    },
    {
     "name": "stdout",
     "output_type": "stream",
     "text": [
      "CPU times: user 3.12 s, sys: 3.25 s, total: 6.36 s\n",
      "Wall time: 6.34 s\n"
     ]
    },
    {
     "data": {
      "text/plain": [
       "<Figure size 640x480 with 0 Axes>"
      ]
     },
     "metadata": {},
     "output_type": "display_data"
    }
   ],
   "source": [
    "for rotation in rotations: \n",
    "    \n",
    "    #Creating atoms\n",
    "    surfaces = [(1, 0, 0), (1, 1, 0), (1, 1, 1)] # Nanoparticle facets\n",
    "    esurf = [1.0, 1.1, 0.9] # Relative surface energies\n",
    "    size = 16000 # Target number of atoms\n",
    "    atoms = Atoms(wulff_construction('Au', surfaces, esurf, size, 'fcc', rounding='above'))\n",
    "    atoms.rotate(rotation[0], 'z', center='cop')\n",
    "    atoms.rotate(rotation[1], 'y', center='cop')\n",
    "    atoms.rotate(rotation[2], 'z', center='cop')\n",
    "    atoms.center(vacuum=5.)\n",
    "    atoms.center(vacuum=2., axis=2)\n",
    "    \n",
    "    # Setting gridpoint config\n",
    "    gridpoints = int(max(atoms.cell[0,0], atoms.cell[1,1]) / 0.05)\n",
    "    gridpoints = 4096\n",
    "    \n",
    "    #Generating images\n",
    "    angle = 2*4.5e-3\n",
    "    defocus = 40/np.sin(angle)\n",
    "    mass = ase.data.atomic_masses[ase.data.atomic_numbers['Au']]\n",
    "    TD = 165  # Kittel\n",
    "    T = 300\n",
    "    U_squared = (3 * constants.hbar**2 / (2 *  mass * ase.units._amu * constants.k * TD)\n",
    "                 * (1/4 + T / TD))\n",
    "    sigmas = {'Au': np.sqrt(U_squared) * 1e10} # standard deviations of thermal vibrations\n",
    "    print(sigmas)\n",
    "    num_configs = 10 # number of frozen phonon configurations\n",
    "\n",
    "    frozen_phonons = FrozenPhonons(atoms, num_configs=num_configs, sigmas=sigmas)\n",
    "\n",
    "    for i,config in enumerate(frozen_phonons):\n",
    "        potential = Potential(config, \n",
    "                              gpts=gridpoints, \n",
    "                              slice_thickness=0.5, \n",
    "                              device='gpu',\n",
    "                              #storage='cpu',\n",
    "                              precalculate=False,\n",
    "                              parametrization='kirkland', \n",
    "                              projection='infinite') # ASK\n",
    "\n",
    "        probe = Probe(sampling=potential.sampling,\n",
    "            device='gpu',\n",
    "            semiangle_cutoff=1000*angle,\n",
    "            extent=potential.extent,\n",
    "            defocus=defocus,\n",
    "            energy=30e3 # acceleration voltage in eVhttp://localhost:8080/notebooks/Kikuchi.ipynb#\n",
    "        )\n",
    "        positions = (45, 45)\n",
    "        %time exit_wave = probe.multislice(positions, potential)\n",
    "        cbed_diffraction_pattern = exit_wave.diffraction_pattern(block_zeroth_order=0)\n",
    "        if (i==0):\n",
    "            summedImage = cbed_diffraction_pattern.array\n",
    "        else:\n",
    "            summedImage += cbed_diffraction_pattern.array\n",
    "\n",
    "    cbed_diffraction_pattern.array[:] = summedImage/num_configs\n",
    "    exit_wave.array.shape\n",
    "\n",
    "    # Deleting probe\n",
    "    energy = probe.energy\n",
    "    del probe\n",
    "    \n",
    "    # Switching back to CPU\n",
    "    if True:\n",
    "        exit_wave._array = exit_wave._array.get()\n",
    "        exit_wave._device = 'cpu'\n",
    "\n",
    "    plt.savefig('image-{}.png'.format(\"{}-{}-{}\".format(rotation[0], rotation[1], rotation[2])))"
   ]
  }
 ],
 "metadata": {
  "kernelspec": {
   "display_name": "Python 3 (ipykernel)",
   "language": "python",
   "name": "python3"
  },
  "language_info": {
   "codemirror_mode": {
    "name": "ipython",
    "version": 3
   },
   "file_extension": ".py",
   "mimetype": "text/x-python",
   "name": "python",
   "nbconvert_exporter": "python",
   "pygments_lexer": "ipython3",
   "version": "3.10.7"
  },
  "pycharm": {
   "stem_cell": {
    "cell_type": "raw",
    "metadata": {
     "collapsed": false
    },
    "source": []
   }
  }
 },
 "nbformat": 4,
 "nbformat_minor": 4
}
